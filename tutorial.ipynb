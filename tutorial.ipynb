{
 "cells": [
  {
   "cell_type": "markdown",
   "metadata": {},
   "source": [
    "See also \n",
    "- https://github.com/matchms/matchms/issues/38\n",
    "- https://github.com/matchms/matchms/issues/41\n"
   ]
  },
  {
   "cell_type": "markdown",
   "metadata": {},
   "source": [
    "# 1.\n",
    "\n",
    "In this step, we'll learn about\n",
    "\n",
    "- importing functionality from ``matchms``\n",
    "- loading spectrums into a list of ``Spectrum`` objects\n",
    "- plotting a single spectrum with ``Spectrum.plot()``"
   ]
  },
  {
   "cell_type": "code",
   "execution_count": 1,
   "metadata": {},
   "outputs": [
    {
     "data": {
      "text/plain": [
       "['In',\n",
       " 'Out',\n",
       " 'Scores',\n",
       " 'Spectrum',\n",
       " '_',\n",
       " '__',\n",
       " '___',\n",
       " '__builtin__',\n",
       " '__builtins__',\n",
       " '__doc__',\n",
       " '__loader__',\n",
       " '__name__',\n",
       " '__package__',\n",
       " '__spec__',\n",
       " '_dh',\n",
       " '_i',\n",
       " '_i1',\n",
       " '_ih',\n",
       " '_ii',\n",
       " '_iii',\n",
       " '_oh',\n",
       " 'calculate_scores',\n",
       " 'exit',\n",
       " 'exporting',\n",
       " 'get_ipython',\n",
       " 'harmonization',\n",
       " 'importing',\n",
       " 'logging',\n",
       " 'matchms',\n",
       " 'quit',\n",
       " 'similarity']"
      ]
     },
     "execution_count": 1,
     "metadata": {},
     "output_type": "execute_result"
    }
   ],
   "source": [
    "from matchms import *\n",
    "dir()"
   ]
  },
  {
   "cell_type": "code",
   "execution_count": 2,
   "metadata": {},
   "outputs": [
    {
     "data": {
      "text/plain": [
       "['In',\n",
       " 'Out',\n",
       " '__builtin__',\n",
       " '__builtins__',\n",
       " '__name__',\n",
       " '_dh',\n",
       " '_ih',\n",
       " '_oh',\n",
       " 'exit',\n",
       " 'get_ipython',\n",
       " 'matchms',\n",
       " 'quit']"
      ]
     },
     "execution_count": 2,
     "metadata": {},
     "output_type": "execute_result"
    }
   ],
   "source": [
    "%reset -f\n",
    "import matchms\n",
    "dir()"
   ]
  },
  {
   "cell_type": "code",
   "execution_count": 3,
   "metadata": {},
   "outputs": [
    {
     "data": {
      "text/plain": [
       "['Scores',\n",
       " 'Spectrum',\n",
       " '__author__',\n",
       " '__builtins__',\n",
       " '__cached__',\n",
       " '__doc__',\n",
       " '__email__',\n",
       " '__file__',\n",
       " '__loader__',\n",
       " '__name__',\n",
       " '__package__',\n",
       " '__path__',\n",
       " '__spec__',\n",
       " '__version__',\n",
       " 'calculate_scores',\n",
       " 'exporting',\n",
       " 'harmonization',\n",
       " 'importing',\n",
       " 'logging',\n",
       " 'matchms',\n",
       " 'similarity']"
      ]
     },
     "execution_count": 3,
     "metadata": {},
     "output_type": "execute_result"
    }
   ],
   "source": [
    "%reset -f\n",
    "import matchms\n",
    "dir(matchms)"
   ]
  },
  {
   "cell_type": "code",
   "execution_count": 4,
   "metadata": {},
   "outputs": [
    {
     "data": {
      "text/plain": [
       "['In',\n",
       " 'Out',\n",
       " '__builtin__',\n",
       " '__builtins__',\n",
       " '__name__',\n",
       " '_dh',\n",
       " '_ih',\n",
       " '_oh',\n",
       " 'exit',\n",
       " 'get_ipython',\n",
       " 'quit',\n",
       " 'save']"
      ]
     },
     "execution_count": 4,
     "metadata": {},
     "output_type": "execute_result"
    }
   ],
   "source": [
    "%reset -f\n",
    "from matchms.exporting import *\n",
    "dir()"
   ]
  },
  {
   "cell_type": "code",
   "execution_count": 5,
   "metadata": {},
   "outputs": [
    {
     "data": {
      "text/plain": [
       "['In',\n",
       " 'Out',\n",
       " '__builtin__',\n",
       " '__builtins__',\n",
       " '__name__',\n",
       " '_dh',\n",
       " '_ih',\n",
       " '_oh',\n",
       " 'exit',\n",
       " 'get_ipython',\n",
       " 'harmfun1',\n",
       " 'quit']"
      ]
     },
     "execution_count": 5,
     "metadata": {},
     "output_type": "execute_result"
    }
   ],
   "source": [
    "%reset -f\n",
    "from matchms.harmonization import *\n",
    "dir()"
   ]
  },
  {
   "cell_type": "code",
   "execution_count": 6,
   "metadata": {},
   "outputs": [
    {
     "data": {
      "text/plain": [
       "['In',\n",
       " 'Out',\n",
       " '__builtin__',\n",
       " '__builtins__',\n",
       " '__name__',\n",
       " '_dh',\n",
       " '_ih',\n",
       " '_oh',\n",
       " 'exit',\n",
       " 'get_ipython',\n",
       " 'load_from_mgf',\n",
       " 'quit']"
      ]
     },
     "execution_count": 6,
     "metadata": {},
     "output_type": "execute_result"
    }
   ],
   "source": [
    "%reset -f\n",
    "from matchms.importing import *\n",
    "dir()"
   ]
  },
  {
   "cell_type": "code",
   "execution_count": null,
   "metadata": {
    "scrolled": true
   },
   "outputs": [],
   "source": [
    "%reset -f\n",
    "from matchms import Spectrum\n",
    "from matchms.importing import load_from_mgf\n",
    "\n",
    "spectrums = load_from_mgf(\"reference-spectrums.mgf\")\n",
    "spectrums[0]"
   ]
  },
  {
   "cell_type": "markdown",
   "metadata": {},
   "source": [
    "# 2.\n",
    "\n",
    "In this step, we'll learn about:\n",
    "\n",
    "- Expressing the similarity between the two spectrums from the previous step as a number (aka a 'similarity score')"
   ]
  },
  {
   "cell_type": "code",
   "execution_count": null,
   "metadata": {},
   "outputs": [],
   "source": [
    "%reset -f\n",
    "\n",
    "from matchms import Spectrum, Scores, calculate_scores\n",
    "from matchms.importing import load_from_mgf\n",
    "from matchms.similarity import SimMeas1\n",
    "\n",
    "spectrums = load_from_mgf(\"reference-spectrums.mgf\")\n",
    "\n",
    "measured_spectrum = spectrums[0:1]\n",
    "\n",
    "reference_spectrums = spectrums[2:]\n",
    "harmonization_functions = []\n",
    "similarity_functions = [SimMeas1(factor=0.25)]\n",
    "\n",
    "scores = calculate_scores(measured_spectrum,\n",
    "                          reference_spectrums,\n",
    "                          harmonization_functions,\n",
    "                          similarity_functions)\n",
    "\n",
    "scores.scores\n",
    "\n"
   ]
  },
  {
   "cell_type": "markdown",
   "metadata": {},
   "source": [
    "# 3. \n",
    "\n",
    "In this step, we'll learn about:\n",
    "\n",
    "- the necessity of harmonization functions\n",
    "\n",
    "steps:\n",
    "\n",
    "- run both the reference_spectrum and the (measured) spectrum through the harmonization, repeat steps from previous step."
   ]
  },
  {
   "cell_type": "code",
   "execution_count": null,
   "metadata": {},
   "outputs": [],
   "source": []
  }
 ],
 "metadata": {
  "kernelspec": {
   "display_name": "Python [conda env:matchms-notebooks] *",
   "language": "python",
   "name": "conda-env-matchms-notebooks-py"
  },
  "language_info": {
   "codemirror_mode": {
    "name": "ipython",
    "version": 3
   },
   "file_extension": ".py",
   "mimetype": "text/x-python",
   "name": "python",
   "nbconvert_exporter": "python",
   "pygments_lexer": "ipython3",
   "version": "3.8.2"
  }
 },
 "nbformat": 4,
 "nbformat_minor": 4
}
