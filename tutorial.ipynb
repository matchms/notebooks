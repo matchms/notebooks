{
 "cells": [
  {
   "cell_type": "markdown",
   "metadata": {},
   "source": [
    "See also \n",
    "- https://github.com/matchms/matchms/issues/38\n",
    "- https://github.com/matchms/matchms/issues/41\n"
   ]
  },
  {
   "cell_type": "markdown",
   "metadata": {},
   "source": [
    "# 1.\n",
    "\n",
    "In this step, we'll learn about\n",
    "\n",
    "- importing functionality from ``matchms``\n",
    "- loading one spectrum into a ``Spectrum`` object\n",
    "- plotting a single spectrum with ``Spectrum.plot()`` (which doesn't exist yet)"
   ]
  },
  {
   "cell_type": "code",
   "execution_count": null,
   "metadata": {},
   "outputs": [],
   "source": [
    "from matchms import Spectrum\n",
    "\n",
    "# load a single spectrum into a Spectrum object\n",
    "spectrum = Spectrum(filename=\"spectrum.mgf\")\n",
    "spectrum.plot()"
   ]
  },
  {
   "cell_type": "markdown",
   "metadata": {},
   "source": [
    "# 2.\n",
    "\n",
    "In this step, we'll learn about:\n",
    "\n",
    "- loading a reference spectrum\n",
    "- plotting the spectrum side-by-side with the reference spectrum\n"
   ]
  },
  {
   "cell_type": "code",
   "execution_count": null,
   "metadata": {},
   "outputs": [],
   "source": [
    "from matchms import Spectrum\n",
    "\n",
    "# load a single spectrum into a Spectrum object\n",
    "spectrum = Spectrum(filename=\"spectrum.mgf\")\n",
    "\n",
    "# load a single reference spectrum into a spectrum object\n",
    "reference_spectrum = Spectrum(filename=\"reference_spectrum.mgf\")\n",
    "\n",
    "# visualize both\n",
    "spectrum.plot()\n",
    "reference_spectrum.plot()"
   ]
  },
  {
   "cell_type": "markdown",
   "metadata": {},
   "source": [
    "# 3.\n",
    "\n",
    "In this step, we'll learn about:\n",
    "\n",
    "- Expressing the similarity between the two spectrums from the previous step as a number (aka a 'similarity score')\n"
   ]
  },
  {
   "cell_type": "code",
   "execution_count": null,
   "metadata": {},
   "outputs": [],
   "source": [
    "from matchms import Spectrum, Scores\n",
    "from matchms.similarity import tanimoto\n",
    "\n",
    "# load a single spectrum into a Spectrum object\n",
    "spectrum = Spectrum(filename=\"spectrum.mgf\")\n",
    "\n",
    "# load a single reference spectrum into a spectrum object\n",
    "reference_spectrums = [Spectrum(filename=\"reference_spectrum.mgf\")]\n",
    "\n",
    "# instantiate a Scores object\n",
    "scores = Scores(spectrum=spectrum, reference_spectrums=reference_spectrums)\n",
    "\n",
    "# add the similarity function to the Scores instance\n",
    "scores.add_similarity_function(tanimoto)\n",
    "\n",
    "# let the Scores instance calculate the tanimoto similarity of spectrum to reference_spectrums[0]\n",
    "scores.calculate()\n"
   ]
  },
  {
   "cell_type": "markdown",
   "metadata": {},
   "source": [
    "# 4. \n",
    "\n",
    "In this step, we'll learn about:\n",
    "\n",
    "- the necessity of harmonization functions\n",
    "\n",
    "steps:\n",
    "\n",
    "- run both the reference_spectrum and the (measured) spectrum through the harmonization, repeat steps from previous step."
   ]
  },
  {
   "cell_type": "code",
   "execution_count": null,
   "metadata": {},
   "outputs": [],
   "source": [
    "from matchms import Spectrum\n",
    "from matchms.similarity import tanimoto\n",
    "from matchms.harmonization import harmfun1\n",
    "\n",
    "# load a single spectrum into a Spectrum object\n",
    "spectrum = Spectrum(filename=\"spectrum.mgf\")\n",
    "\n",
    "# load a single reference spectrum into a spectrum object\n",
    "reference_spectrums = [Spectrum(filename=\"reference_spectrum.mgf\")]\n",
    "\n",
    "# instantiate a Scores object\n",
    "scores = Scores(spectrum=spectrum, reference_spectrums=reference_spectrums)\n",
    "\n",
    "# add the harmonization function to the Scores instance\n",
    "scores.add_harmonization_function(harmfun1)\n",
    "\n",
    "# add the similarity function to the Scores instance\n",
    "scores.add_similarity_function(tanimoto)\n",
    "\n",
    "# let the Scores instance calculate the tanimoto similarity of the harmonized spectrum \n",
    "# to the harmonized reference_spectrums[0]:\n",
    "scores.calculate()\n"
   ]
  }
 ],
 "metadata": {
  "kernelspec": {
   "display_name": "Python [conda env:matchms] *",
   "language": "python",
   "name": "conda-env-matchms-py"
  },
  "language_info": {
   "codemirror_mode": {
    "name": "ipython",
    "version": 3
   },
   "file_extension": ".py",
   "mimetype": "text/x-python",
   "name": "python",
   "nbconvert_exporter": "python",
   "pygments_lexer": "ipython3",
   "version": "3.8.2"
  }
 },
 "nbformat": 4,
 "nbformat_minor": 4
}
