{
 "cells": [
  {
   "cell_type": "markdown",
   "metadata": {},
   "source": [
    "See also \n",
    "- https://github.com/matchms/matchms/issues/38\n",
    "- https://github.com/matchms/matchms/issues/41\n"
   ]
  },
  {
   "cell_type": "markdown",
   "metadata": {},
   "source": [
    "# 1.\n",
    "\n",
    "In this step, we'll learn about\n",
    "\n",
    "- importing functionality from ``matchms``\n",
    "- loading spectrums into a list of ``Spectrum`` objects"
   ]
  },
  {
   "cell_type": "code",
   "execution_count": null,
   "metadata": {},
   "outputs": [],
   "source": [
    "from matchms import *\n",
    "dir()"
   ]
  },
  {
   "cell_type": "code",
   "execution_count": null,
   "metadata": {},
   "outputs": [],
   "source": [
    "%reset -f\n",
    "import matchms\n",
    "dir()"
   ]
  },
  {
   "cell_type": "code",
   "execution_count": null,
   "metadata": {},
   "outputs": [],
   "source": [
    "%reset -f\n",
    "import matchms\n",
    "dir(matchms)"
   ]
  },
  {
   "cell_type": "code",
   "execution_count": null,
   "metadata": {},
   "outputs": [],
   "source": [
    "%reset -f\n",
    "from matchms.exporting import *\n",
    "dir()"
   ]
  },
  {
   "cell_type": "code",
   "execution_count": null,
   "metadata": {},
   "outputs": [],
   "source": [
    "%reset -f\n",
    "from matchms.harmonization import *\n",
    "dir()"
   ]
  },
  {
   "cell_type": "code",
   "execution_count": null,
   "metadata": {},
   "outputs": [],
   "source": [
    "%reset -f\n",
    "from matchms.importing import *\n",
    "dir()"
   ]
  },
  {
   "cell_type": "code",
   "execution_count": null,
   "metadata": {
    "scrolled": true
   },
   "outputs": [],
   "source": [
    "%reset -f\n",
    "from matchms import Spectrum\n",
    "from matchms.importing import load_from_mgf\n",
    "\n",
    "spectrums = load_from_mgf(\"reference-spectrums.mgf\")\n",
    "spectrums[0]"
   ]
  },
  {
   "cell_type": "markdown",
   "metadata": {},
   "source": [
    "# 2.\n",
    "\n",
    "In this step, we'll learn about:\n",
    "\n",
    "- Expressing the similarity between the two spectrums from the previous step as a number (aka a 'similarity score')"
   ]
  },
  {
   "cell_type": "code",
   "execution_count": null,
   "metadata": {},
   "outputs": [],
   "source": [
    "%reset -f\n",
    "\n",
    "from matchms import Spectrum, Scores, calculate_scores\n",
    "from matchms.importing import load_from_mgf\n",
    "from matchms.similarity import SimMeas1\n",
    "\n",
    "spectrums = load_from_mgf(\"reference-spectrums.mgf\")\n",
    "\n",
    "measured_spectrum = spectrums[0:1]\n",
    "\n",
    "reference_spectrums = spectrums[2:]\n",
    "harmonization_functions = []\n",
    "similarity_functions = [SimMeas1(factor=0.25)]\n",
    "\n",
    "scores = calculate_scores(measured_spectrum,\n",
    "                          reference_spectrums,\n",
    "                          harmonization_functions,\n",
    "                          similarity_functions)\n",
    "\n",
    "scores.scores\n",
    "\n"
   ]
  },
  {
   "cell_type": "markdown",
   "metadata": {},
   "source": [
    "# 3. \n",
    "\n",
    "In this step, we'll learn about:\n",
    "\n",
    "- the necessity of harmonization functions\n",
    "\n",
    "steps:\n",
    "\n",
    "- run both the reference_spectrum and the (measured) spectrum through the harmonization, repeat steps from previous step."
   ]
  },
  {
   "cell_type": "code",
   "execution_count": null,
   "metadata": {},
   "outputs": [],
   "source": []
  }
 ],
 "metadata": {
  "kernelspec": {
   "display_name": "Python [conda env:matchms-notebooks] *",
   "language": "python",
   "name": "conda-env-matchms-notebooks-py"
  },
  "language_info": {
   "codemirror_mode": {
    "name": "ipython",
    "version": 3
   },
   "file_extension": ".py",
   "mimetype": "text/x-python",
   "name": "python",
   "nbconvert_exporter": "python",
   "pygments_lexer": "ipython3",
   "version": "3.8.2"
  }
 },
 "nbformat": 4,
 "nbformat_minor": 4
}
