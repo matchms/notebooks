{
 "cells": [
  {
   "cell_type": "code",
   "execution_count": 1,
   "metadata": {},
   "outputs": [
    {
     "name": "stdout",
     "output_type": "stream",
     "text": [
      "[[4.04616424e+01 1.00000000e+00]\n",
      " [6.33339401e+01 5.61797753e-03]\n",
      " [7.20261154e+01 0.00000000e+00]\n",
      " [7.01758346e+01 0.00000000e+00]\n",
      " [6.93313858e+01 0.00000000e+00]\n",
      " [7.47981125e+01 0.00000000e+00]\n",
      " [6.91281631e+01 0.00000000e+00]\n",
      " [3.91151977e+01 0.00000000e+00]\n",
      " [6.89329941e+01 0.00000000e+00]\n",
      " [4.13346130e+01 0.00000000e+00]]\n"
     ]
    }
   ],
   "source": [
    "import os\n",
    "from matchms.importing import load_from_mgf\n",
    "from matchms.filtering import filterfun1, filterfun2\n",
    "from matchms.similarity import SimMeas1, IntersectMz\n",
    "from matchms import calculate_scores\n",
    "\n",
    "\n",
    "def test_user_workflow():\n",
    "\n",
    "    def apply_filters(s):\n",
    "        filterfun1(s)\n",
    "        filterfun2(s)\n",
    "\n",
    "    # loading\n",
    "    references_file = 'pesticides.mgf'\n",
    "\n",
    "    reference_spectrums_raw = load_from_mgf(references_file)\n",
    "    reference_spectrums = [s.clone() for s in reference_spectrums_raw]\n",
    "\n",
    "    query_spectrum_raw = reference_spectrums_raw[0]\n",
    "    query_spectrum = query_spectrum_raw.clone()\n",
    "\n",
    "    # filtering\n",
    "    for s in reference_spectrums:\n",
    "        apply_filters(s)\n",
    "\n",
    "    apply_filters(query_spectrum)\n",
    "\n",
    "    # define similarity functions\n",
    "    similarity_functions = [SimMeas1(\"simmeas1\", factor=0.1), IntersectMz(\"intersect\")]\n",
    "\n",
    "    # calculate_scores\n",
    "    scores = calculate_scores(query_spectrum,\n",
    "                              reference_spectrums,\n",
    "                              similarity_functions).sort_by(\"intersect\").reverse().top(10)\n",
    "\n",
    "    print(scores)\n",
    "\n",
    "\n",
    "if __name__ == '__main__':\n",
    "    test_user_workflow()"
   ]
  },
  {
   "cell_type": "code",
   "execution_count": null,
   "metadata": {},
   "outputs": [],
   "source": []
  }
 ],
 "metadata": {
  "kernelspec": {
   "display_name": "Python [conda env:matchms-notebooks] *",
   "language": "python",
   "name": "conda-env-matchms-notebooks-py"
  },
  "language_info": {
   "codemirror_mode": {
    "name": "ipython",
    "version": 3
   },
   "file_extension": ".py",
   "mimetype": "text/x-python",
   "name": "python",
   "nbconvert_exporter": "python",
   "pygments_lexer": "ipython3",
   "version": "3.8.2"
  }
 },
 "nbformat": 4,
 "nbformat_minor": 4
}
