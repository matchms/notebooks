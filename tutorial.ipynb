{
 "cells": [
  {
   "cell_type": "markdown",
   "metadata": {},
   "source": [
    "See also \n",
    "- https://github.com/matchms/matchms/issues/38\n",
    "- https://github.com/matchms/matchms/issues/41\n"
   ]
  },
  {
   "cell_type": "markdown",
   "metadata": {},
   "source": [
    "# 1.\n",
    "\n",
    "In this step, we'll learn about\n",
    "\n",
    "- importing functionality from ``matchms``\n",
    "- loading spectrums into a list of ``Spectrum`` objects\n",
    "- plotting a single spectrum with ``Spectrum.plot()``"
   ]
  },
  {
   "cell_type": "code",
   "execution_count": 1,
   "metadata": {},
   "outputs": [
    {
     "ename": "ModuleNotFoundError",
     "evalue": "No module named 'matchms.exporting'",
     "output_type": "error",
     "traceback": [
      "\u001b[0;31m---------------------------------------------------------------------------\u001b[0m",
      "\u001b[0;31mModuleNotFoundError\u001b[0m                       Traceback (most recent call last)",
      "\u001b[0;32m<ipython-input-1-f6f51de92b26>\u001b[0m in \u001b[0;36m<module>\u001b[0;34m\u001b[0m\n\u001b[0;32m----> 1\u001b[0;31m \u001b[0;32mfrom\u001b[0m \u001b[0mmatchms\u001b[0m \u001b[0;32mimport\u001b[0m \u001b[0;34m*\u001b[0m\u001b[0;34m\u001b[0m\u001b[0;34m\u001b[0m\u001b[0m\n\u001b[0m\u001b[1;32m      2\u001b[0m \u001b[0mdir\u001b[0m\u001b[0;34m(\u001b[0m\u001b[0;34m)\u001b[0m\u001b[0;34m\u001b[0m\u001b[0;34m\u001b[0m\u001b[0m\n",
      "\u001b[0;32m~/opt/miniconda3/envs/matchms-notebooks/lib/python3.8/site-packages/matchms/__init__.py\u001b[0m in \u001b[0;36m<module>\u001b[0;34m\u001b[0m\n\u001b[1;32m      2\u001b[0m \u001b[0;34m\"\"\"Documentation about matchms\"\"\"\u001b[0m\u001b[0;34m\u001b[0m\u001b[0;34m\u001b[0m\u001b[0m\n\u001b[1;32m      3\u001b[0m \u001b[0;34m\u001b[0m\u001b[0m\n\u001b[0;32m----> 4\u001b[0;31m \u001b[0;32mimport\u001b[0m \u001b[0mmatchms\u001b[0m\u001b[0;34m.\u001b[0m\u001b[0mexporting\u001b[0m\u001b[0;34m\u001b[0m\u001b[0;34m\u001b[0m\u001b[0m\n\u001b[0m\u001b[1;32m      5\u001b[0m \u001b[0;32mimport\u001b[0m \u001b[0mmatchms\u001b[0m\u001b[0;34m.\u001b[0m\u001b[0mharmonization\u001b[0m\u001b[0;34m\u001b[0m\u001b[0;34m\u001b[0m\u001b[0m\n\u001b[1;32m      6\u001b[0m \u001b[0;32mimport\u001b[0m \u001b[0mmatchms\u001b[0m\u001b[0;34m.\u001b[0m\u001b[0mimporting\u001b[0m\u001b[0;34m\u001b[0m\u001b[0;34m\u001b[0m\u001b[0m\n",
      "\u001b[0;31mModuleNotFoundError\u001b[0m: No module named 'matchms.exporting'"
     ]
    }
   ],
   "source": [
    "from matchms import *\n",
    "dir()"
   ]
  },
  {
   "cell_type": "code",
   "execution_count": null,
   "metadata": {},
   "outputs": [],
   "source": [
    "%reset -f\n",
    "import matchms\n",
    "dir()"
   ]
  },
  {
   "cell_type": "code",
   "execution_count": null,
   "metadata": {},
   "outputs": [],
   "source": [
    "%reset -f\n",
    "import matchms\n",
    "dir(matchms)"
   ]
  },
  {
   "cell_type": "code",
   "execution_count": null,
   "metadata": {},
   "outputs": [],
   "source": [
    "%reset -f\n",
    "from matchms.exporting import *\n",
    "dir()"
   ]
  },
  {
   "cell_type": "code",
   "execution_count": null,
   "metadata": {},
   "outputs": [],
   "source": [
    "%reset -f\n",
    "from matchms.harmonization import *\n",
    "dir()"
   ]
  },
  {
   "cell_type": "code",
   "execution_count": null,
   "metadata": {},
   "outputs": [],
   "source": [
    "%reset -f\n",
    "from matchms.importing import *\n",
    "dir()"
   ]
  },
  {
   "cell_type": "code",
   "execution_count": null,
   "metadata": {
    "scrolled": true
   },
   "outputs": [],
   "source": [
    "%reset -f\n",
    "from matchms import Spectrum\n",
    "from matchms.importing import load_from_mgf\n",
    "\n",
    "spectrums = load_from_mgf(\"reference-spectrums.mgf\")\n",
    "spectrums[0]"
   ]
  },
  {
   "cell_type": "markdown",
   "metadata": {},
   "source": [
    "# 2.\n",
    "\n",
    "In this step, we'll learn about:\n",
    "\n",
    "- Expressing the similarity between the two spectrums from the previous step as a number (aka a 'similarity score')"
   ]
  },
  {
   "cell_type": "code",
   "execution_count": null,
   "metadata": {},
   "outputs": [],
   "source": [
    "%reset -f\n",
    "\n",
    "from matchms import Spectrum, Scores, calculate_scores\n",
    "from matchms.importing import load_from_mgf\n",
    "from matchms.similarity import SimMeas1\n",
    "\n",
    "spectrums = load_from_mgf(\"reference-spectrums.mgf\")\n",
    "\n",
    "measured_spectrum = spectrums[0:1]\n",
    "\n",
    "reference_spectrums = spectrums[2:]\n",
    "harmonization_functions = []\n",
    "similarity_functions = [SimMeas1(factor=0.25)]\n",
    "\n",
    "scores = calculate_scores(measured_spectrum,\n",
    "                          reference_spectrums,\n",
    "                          harmonization_functions,\n",
    "                          similarity_functions)\n",
    "\n",
    "scores.scores\n",
    "\n"
   ]
  },
  {
   "cell_type": "markdown",
   "metadata": {},
   "source": [
    "# 3. \n",
    "\n",
    "In this step, we'll learn about:\n",
    "\n",
    "- the necessity of harmonization functions\n",
    "\n",
    "steps:\n",
    "\n",
    "- run both the reference_spectrum and the (measured) spectrum through the harmonization, repeat steps from previous step."
   ]
  },
  {
   "cell_type": "code",
   "execution_count": null,
   "metadata": {},
   "outputs": [],
   "source": []
  }
 ],
 "metadata": {
  "kernelspec": {
   "display_name": "Python [conda env:matchms-notebooks] *",
   "language": "python",
   "name": "conda-env-matchms-notebooks-py"
  },
  "language_info": {
   "codemirror_mode": {
    "name": "ipython",
    "version": 3
   },
   "file_extension": ".py",
   "mimetype": "text/x-python",
   "name": "python",
   "nbconvert_exporter": "python",
   "pygments_lexer": "ipython3",
   "version": "3.8.2"
  }
 },
 "nbformat": 4,
 "nbformat_minor": 4
}
