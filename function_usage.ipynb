{
 "cells": [
  {
   "cell_type": "code",
   "execution_count": 1,
   "metadata": {},
   "outputs": [
    {
     "name": "stdout",
     "output_type": "stream",
     "text": [
      "[1346.36, 4.7, 2.3536, 0.84, 54.5, 41.41, 6.8, 5.0, 4.6, 7.8]\n",
      "[6.4, 79.4, 81.289, 0.1304, 95.087, 62.0, 5.875]\n",
      "2.5\n",
      "3603.6175\n"
     ]
    }
   ],
   "source": [
    "\n",
    "def simfun1(spectrum, reference_spectrum, factor=3.0):\n",
    "    # just some nonsense to demonstrate usage of a parameter \n",
    "    # when comparing 2 spectrums\n",
    "    print(spectrum)\n",
    "    print(reference_spectrum)\n",
    "    print(factor)\n",
    "    return (max(spectrum) + max(reference_spectrum) ) * factor\n",
    "\n",
    "class Scores:\n",
    "    def __init__(self, spectrum=None, reference_spectrums=None, similarity_functions=None):\n",
    "        self.similarity_functions = similarity_functions\n",
    "        self.reference_spectrums = reference_spectrums\n",
    "        self.spectrum = spectrum\n",
    "        self.score = None\n",
    "\n",
    "    def calculate(self):\n",
    "        f = self.similarity_functions[0][0]\n",
    "        a = self.spectrum, self.reference_spectrums[0], self.similarity_functions[0][1]\n",
    "        self.score = f(*a)\n",
    "\n",
    "\n",
    "spectrum = [1346.36, 4.7, 2.3536, 0.84, 54.5, 41.41, 6.8, 5.0, 4.6, 7.8]\n",
    "reference_spectrums = [[6.4, 79.4, 81.289, 0.1304, 95.087, 62.0, 5.875]]\n",
    "similarity_functions = [(simfun1, 2.5)]\n",
    "scores = Scores(spectrum=spectrum,\n",
    "                reference_spectrums=reference_spectrums,\n",
    "                similarity_functions=similarity_functions)\n",
    "\n",
    "scores.calculate()\n",
    "print(scores.score)\n"
   ]
  },
  {
   "cell_type": "code",
   "execution_count": null,
   "metadata": {},
   "outputs": [],
   "source": []
  }
 ],
 "metadata": {
  "kernelspec": {
   "display_name": "Python [conda env:matchms] *",
   "language": "python",
   "name": "conda-env-matchms-py"
  },
  "language_info": {
   "codemirror_mode": {
    "name": "ipython",
    "version": 3
   },
   "file_extension": ".py",
   "mimetype": "text/x-python",
   "name": "python",
   "nbconvert_exporter": "python",
   "pygments_lexer": "ipython3",
   "version": "3.8.2"
  }
 },
 "nbformat": 4,
 "nbformat_minor": 4
}
