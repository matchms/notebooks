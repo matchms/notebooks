{
 "cells": [
  {
   "cell_type": "markdown",
   "metadata": {},
   "source": [
    "# Spec2Vec\n",
    "1. Import MS-MS data from MGF file\n",
    "2. Create smaller subset of data\n",
    "3. Train Spec2Vec models for both datasets"
   ]
  },
  {
   "cell_type": "code",
   "execution_count": 1,
   "metadata": {},
   "outputs": [],
   "source": [
    "import numpy as np\n",
    "from matplotlib import pyplot as plt\n",
    "import matplotlib\n",
    "import os\n",
    "import sys\n",
    "sys.path.insert(0, os.path.dirname(os.getcwd()))\n",
    "\n",
    "import matchms.helper_functions as functions\n",
    "from matchms import MS_functions"
   ]
  },
  {
   "cell_type": "code",
   "execution_count": 2,
   "metadata": {},
   "outputs": [],
   "source": [
    "# Locations (import paths from config.py)\n",
    "from config import ROOT, PATH_SPEC2VEC, PATH_MS_DATA, PATH_SAVE_MODEL, PATH_COMPUTED, PATH_OUTPUT"
   ]
  },
  {
   "cell_type": "markdown",
   "metadata": {},
   "source": [
    "# Import and filter MS-MS data from MGF file (negative ionization mode)\n",
    "\n",
    "### Loading MGF file\n",
    "In the following the MGF file containing all spectra and metadata will be loaded. \n",
    "The MGF file was generated from all publich gnps libraries (state: 26 July 2019). Spectra annotations were checked, cleaned, and extended where possible following a procedure described in another notebook: https://github.com/iomega/Spec2Vec/blob/master/notebooks/Spec2Vec_01_MGF_from_gnps_library_search.ipynb  \n",
    "\n",
    "### Spectra filtering\n",
    "**1. Discard spectra with too few peaks.**  \n",
    "Spectra with less than \"min_peaks\" peaks will be ignored. Here this is set to min_peaks = 10.  \n",
    "\n",
    "**2. Further filtering is ignored here. This is only to do selection for subset.**  \n",
    "\n",
    "### Creation of documents from spectra\n",
    "Peaks and losses (= precursor mass - peak mass) are converted into words using a precision of \"num_decimals\".  \n",
    "A peak with m/z = 108.3643 will hence become a string: \"peak_108.36\".  \n",
    "A loss with m/z = 64.2257 will hence become a string: \"loss_64.23\".  \n",
    "All words of one spectrum are collected in one list which represents the entire spectrum as a 'document'."
   ]
  },
  {
   "cell_type": "code",
   "execution_count": 6,
   "metadata": {
    "scrolled": true
   },
   "outputs": [
    {
     "name": "stdout",
     "output_type": "stream",
     "text": [
      "----------------------------------------\n",
      "Could not find file  C:\\OneDrive - Netherlands eScience Center\\Project_Wageningen_iOMEGA\\Data\\GNPS_all\\MS-MS_spectra_negative_minpeak10_unfiltered_191206.json\n",
      "----------------------------------------\n",
      "Data will be imported from  C:\\OneDrive - Netherlands eScience Center\\Project_Wageningen_iOMEGA\\Data\\GNPS_all\\cleaned_MGFs\\MS-MS_spectra_GNPS_cleaned_negative_mode_spectra.mgf\n",
      "----------------------------------------\n",
      "Take 32457 spectra out of 40339\n",
      "\n",
      "----------------------------------------\n",
      "Saving spectra...\n"
     ]
    }
   ],
   "source": [
    "# Import & filter data from all-GNPS dataset\n",
    "file_json = os.path.join(PATH_MS_DATA, \"MS-MS_spectra_negative_minpeak10_unfiltered_191206.json\")\n",
    "file_mgf = os.path.join(PATH_MS_DATA, \"cleaned_MGFs\", \"MS-MS_spectra_GNPS_cleaned_negative_mode_spectra.mgf\")\n",
    "\n",
    "spectra, spectra_dict, _, _, sub_spectra_metadata = MS_functions.load_MGF_data(file_mgf = file_mgf,\n",
    "                                                           file_json = file_json,\n",
    "                                                           num_decimals = 2,\n",
    "                                                           min_frag = 0.0, max_frag = 1000.0,\n",
    "                                                           min_loss = 5.0, max_loss = 5.0,\n",
    "                                                           min_intensity_perc = 0,\n",
    "                                                           exp_intensity_filter = None, \n",
    "                                                           min_keep_peaks_0 = 10,\n",
    "                                                           min_keep_peaks_per_mz = 0,\n",
    "                                                           min_peaks = 10,\n",
    "                                                           max_peaks = None,\n",
    "                                                           peak_loss_words = ['peak_', 'loss_'],\n",
    "                                                           ignore_losses = True,\n",
    "                                                           create_docs = False)"
   ]
  },
  {
   "cell_type": "code",
   "execution_count": 7,
   "metadata": {},
   "outputs": [
    {
     "name": "stdout",
     "output_type": "stream",
     "text": [
      "Number of imported spectra: 32457\n"
     ]
    }
   ],
   "source": [
    "print(\"Number of imported spectra:\", len(spectra))"
   ]
  },
  {
   "cell_type": "code",
   "execution_count": 8,
   "metadata": {},
   "outputs": [
    {
     "data": {
      "text/plain": [
       "'\"InChI=1S/C26H43NO5/c1-15(4-7-22(30)27-14-23(31)32)18-5-6-19-24-20(9-11-26(18,19)3)25(2)10-8-17(28)12-16(25)13-21(24)29/h15-21,24,28-29H,4-14H2,1-3H3,(H,27,30)(H,31,32)/t15?,16-,17+,18+,19-,20-,21+,24-,25?,26?/m0/s1\"'"
      ]
     },
     "execution_count": 8,
     "metadata": {},
     "output_type": "execute_result"
    }
   ],
   "source": [
    "spectra[10].inchi"
   ]
  },
  {
   "cell_type": "code",
   "execution_count": 9,
   "metadata": {},
   "outputs": [
    {
     "data": {
      "text/plain": [
       "'CCMSLIB00005435454'"
      ]
     },
     "execution_count": 9,
     "metadata": {},
     "output_type": "execute_result"
    }
   ],
   "source": [
    "spectra[10].metadata['spectrumid']"
   ]
  },
  {
   "cell_type": "code",
   "execution_count": 10,
   "metadata": {},
   "outputs": [
    {
     "data": {
      "text/plain": [
       "('\"InChI=1S/C24H40O4/c1-14(4-7-21(27)28)17-5-6-18-22-19(9-11-24(17,18)3)23(2)10-8-16(25)12-15(23)13-20(22)26/h14-20,22,25-26H,4-13H2,1-3H3,(H,27,28)/t14?,15-,16+,17+,18-,19-,20+,22-,23?,24?/m0/s1\"',\n",
       " 'N/A')"
      ]
     },
     "execution_count": 10,
     "metadata": {},
     "output_type": "execute_result"
    }
   ],
   "source": [
    "spectra[0].inchi, spectra[20000].inchi"
   ]
  },
  {
   "cell_type": "markdown",
   "metadata": {},
   "source": [
    "### Check the amount of annotations we have in the dataset"
   ]
  },
  {
   "cell_type": "code",
   "execution_count": 11,
   "metadata": {},
   "outputs": [],
   "source": [
    "inchi_lst = []\n",
    "inchikey_lst = []\n",
    "smiles_lst = []\n",
    "spectrumid_lst = []\n",
    "\n",
    "for spec in spectra:\n",
    "    if 'inchi' in spec.metadata:\n",
    "        inchi_lst.append(spec.metadata['inchi'])\n",
    "    else:\n",
    "        inchi_lst.append('0')\n",
    "    if 'inchikey' in spec.metadata:\n",
    "        inchikey_lst.append(spec.metadata['inchikey'])\n",
    "    else:\n",
    "        inchikey_lst.append('0')\n",
    "    if 'smiles' in spec.metadata:\n",
    "        smiles_lst.append(spec.metadata['smiles'])\n",
    "    else:\n",
    "        smiles_lst.append('0')\n",
    "    if 'spectrumid' in spec.metadata:\n",
    "        spectrumid_lst.append(spec.metadata['spectrumid'])\n",
    "    else:\n",
    "        spectrumid_lst.append('0')"
   ]
  },
  {
   "cell_type": "code",
   "execution_count": 12,
   "metadata": {},
   "outputs": [
    {
     "name": "stdout",
     "output_type": "stream",
     "text": [
      "Number of spectra with inchi: 15480\n",
      "Number of spectra with inchikey: 15480\n",
      "Number of spectra with smiles: 15480\n"
     ]
    }
   ],
   "source": [
    "empty_entry_types = empty_entry_types = ['N/A', 'n/a', 'NA', 0, '0', '\"\"', '', \n",
    "                     'nodata', '\"InChI=n/a\"', '\"InChI=\"', \n",
    "                     'InChI=1S/N\\n', '\\t\\r\\n']  # list of types that can occur which all reflect empty entries\n",
    "num_inchi = len([x for x in inchi_lst if x not in empty_entry_types])\n",
    "print(\"Number of spectra with inchi:\", num_inchi)\n",
    "\n",
    "num_inchikey = len([x for x in inchikey_lst if x not in empty_entry_types])\n",
    "print(\"Number of spectra with inchikey:\", num_inchikey)\n",
    "\n",
    "num_smiles = len([x for x in smiles_lst if x not in empty_entry_types])\n",
    "print(\"Number of spectra with smiles:\", num_smiles)"
   ]
  },
  {
   "cell_type": "markdown",
   "metadata": {},
   "source": [
    "## Explore some examples"
   ]
  },
  {
   "cell_type": "code",
   "execution_count": 13,
   "metadata": {},
   "outputs": [],
   "source": [
    "from matplotlib import pyplot as plt\n",
    "\n",
    "def compare_spectra(spec1, spec2, min_mz = None, max_mz = None):\n",
    "    \"\"\" Plot different spectra together to compare.\n",
    "    \"\"\"\n",
    "    plt.figure(figsize=(10,10))\n",
    "\n",
    "    peak_number = []\n",
    "    new_min_mz = 9999\n",
    "    new_max_mz = 0\n",
    "    colors = ['crimson', 'teal']\n",
    "    for i, spec in enumerate([spec1, spec2]):\n",
    "        peaks = np.array(spec.peaks.copy())\n",
    "        peak_number.append(len(peaks))\n",
    "        peaks[:,1] = peaks[:,1]/np.max(peaks[:,1]); \n",
    "\n",
    "        if new_min_mz > np.min(peaks[:,0]):\n",
    "            new_min_mz = np.min(peaks[:,0])\n",
    "        if new_max_mz < np.max(peaks[:,0]):\n",
    "            new_max_mz = np.max(peaks[:,0])\n",
    "\n",
    "        markerline, stemlines, baseline = plt.stem(peaks[:,0], (-1)**(i+1)*peaks[:,1], linefmt='-', markerfmt='.', basefmt='r-')\n",
    "        plt.setp(stemlines, 'color', colors[i])\n",
    "    \n",
    "    if min_mz == None: #then update\n",
    "        min_mz = max(0, (new_min_mz - 5))\n",
    "    if max_mz == None: #then update\n",
    "        max_mz = new_max_mz + 10\n",
    "        \n",
    "    plt.xlim((min_mz, max_mz))\n",
    "    plt.grid(True)\n",
    "    plt.title('Spectrum')\n",
    "    plt.xlabel('m/z')\n",
    "    plt.ylabel('peak intensity')\n",
    "    \n",
    "    plt.show()\n",
    "    \n",
    "    print(\"Number of peaks: \", peak_number)"
   ]
  },
  {
   "cell_type": "code",
   "execution_count": 14,
   "metadata": {},
   "outputs": [
    {
     "name": "stdout",
     "output_type": "stream",
     "text": [
      "100 101\n",
      "pepmasses:  418.936 489.218\n",
      "charges:  -1 -1\n",
      "Smiles 1: C1=C(C=C(C(=C1Cl)N2C(=C(C(=N2)C#N)SC(F)(F)F)N)Cl)C(F)(F)F\n",
      "Smiles 2: CCC1=C(C)CN(C(=O)NCCC2=CC=C(C=C2)S(=O)(=O)NC(=O)NC2CCC(C)CC2)C1=O\n",
      "Inchi 1: \"InChI=1S/C12H4Cl2F6N4S/c13-5-1-4(11(15,16)17)2-6(14)8(5)24-10(22)9(7(3-21)23-24)25-12(18,19)20/h1-2H,22H2\"\n",
      "Inchi 2: \"InChI=1S/C24H34N4O5S/c1-4-21-17(3)15-28(22(21)29)24(31)25-14-13-18-7-11-20(12-8-18)34(32,33)27-23(30)26-19-9-5-16(2)6-10-19/h7-8,11-12,16,19H,4-6,9-10,13-15H2,1-3H3,(H,25,31)(H2,26,27,30)\"\n"
     ]
    },
    {
     "data": {
      "image/png": "[encoded data removed]",
      "text/plain": [
       "<Figure size 720x720 with 1 Axes>"
      ]
     },
     "metadata": {
      "needs_background": "light"
     },
     "output_type": "display_data"
    },
    {
     "name": "stdout",
     "output_type": "stream",
     "text": [
      "Number of peaks:  [23, 10]\n"
     ]
    }
   ],
   "source": [
    "ID1, ID2 = 100,101\n",
    "print(ID1,ID2)\n",
    "print(\"pepmasses: \", spectra[ID1].metadata['pepmass'][0], spectra[ID2].metadata['pepmass'][0])\n",
    "print(\"charges: \", spectra[ID1].metadata['charge'], spectra[ID2].metadata['charge'])\n",
    "print(\"Smiles 1:\", spectra[ID1].metadata['smiles'])\n",
    "print(\"Smiles 2:\", spectra[ID2].metadata['smiles'])\n",
    "if 'inchi' in spectra[ID1].metadata:\n",
    "    print(\"Inchi 1:\", spectra[ID1].metadata['inchi'])\n",
    "if 'inchi' in spectra[ID2].metadata:\n",
    "    print(\"Inchi 2:\", spectra[ID2].metadata['inchi'])\n",
    "    \n",
    "compare_spectra(spectra[ID1],spectra[ID2], min_mz = None, max_mz = None)"
   ]
  },
  {
   "cell_type": "markdown",
   "metadata": {},
   "source": [
    "# Selecting data subset"
   ]
  },
  {
   "cell_type": "markdown",
   "metadata": {},
   "source": [
    "## Number of unique inchikey"
   ]
  },
  {
   "cell_type": "code",
   "execution_count": 15,
   "metadata": {},
   "outputs": [
    {
     "name": "stdout",
     "output_type": "stream",
     "text": [
      "Unique inchikeys: 4853\n"
     ]
    }
   ],
   "source": [
    "empty_entry_types = ['N/A', 'n/a', 'NA', 0, '0', '\"\"', '', \n",
    "                     'nodata', '\"InChI=n/a\"', '\"InChI=\"', \n",
    "                     'InChI=1S/N\\n', '\\t\\r\\n']  # list of types that can occur which all reflect empty entries\n",
    "\n",
    "inchikey_lst_nonempty = [x for x in inchikey_lst if x not in empty_entry_types]\n",
    "print(\"Unique inchikeys:\", len(set(inchikey_lst_nonempty)))"
   ]
  },
  {
   "cell_type": "code",
   "execution_count": 16,
   "metadata": {},
   "outputs": [
    {
     "name": "stdout",
     "output_type": "stream",
     "text": [
      "Unique inchikeys (first 14 characters): 4506\n"
     ]
    }
   ],
   "source": [
    "inchikey_lst_nonempty_first14 = [x[:14] for x in inchikey_lst if x not in empty_entry_types]\n",
    "print(\"Unique inchikeys (first 14 characters):\", len(set(inchikey_lst_nonempty_first14)))"
   ]
  },
  {
   "cell_type": "markdown",
   "metadata": {},
   "source": [
    "# Make selection for data subset"
   ]
  },
  {
   "cell_type": "markdown",
   "metadata": {},
   "source": [
    "As a subset we will select one spectra for every unique inchikey. We only consider the first 14 letters (which are a hash from the connectivity information of the respective InChI).  \n",
    "Instead of choosing the first of each unique type, we could also pick the one with the most peaks or anything else...  \n",
    "**Here we pick the spectra with the best library quality. And of those the one with the most peaks above a relative threshold (here = 0.1 of max intensity).**"
   ]
  },
  {
   "cell_type": "code",
   "execution_count": 17,
   "metadata": {},
   "outputs": [
    {
     "data": {
      "text/plain": [
       "['1', '1', '1', '1', '1', '1', '1', '1', '1', '1']"
      ]
     },
     "execution_count": 17,
     "metadata": {},
     "output_type": "execute_result"
    }
   ],
   "source": [
    "[x.metadata['libraryquality'] for x in spectra[:10]]"
   ]
  },
  {
   "cell_type": "code",
   "execution_count": 18,
   "metadata": {},
   "outputs": [
    {
     "data": {
      "text/plain": [
       "(1, 3)"
      ]
     },
     "execution_count": 18,
     "metadata": {},
     "output_type": "execute_result"
    }
   ],
   "source": [
    "qualities = np.array([int(x.metadata['libraryquality']) for x in spectra])\n",
    "np.min(qualities), np.max(qualities)"
   ]
  },
  {
   "cell_type": "markdown",
   "metadata": {},
   "source": [
    "### Add small function to check number of peaks above relative intensity threshold"
   ]
  },
  {
   "cell_type": "code",
   "execution_count": 19,
   "metadata": {},
   "outputs": [],
   "source": [
    "def count_higher_peaks(spectrum, threshold = 0.1):\n",
    "    return np.sum(np.array(spectrum.peaks)[:,1]/np.array(spectrum.peaks)[:,1].max() >= threshold)"
   ]
  },
  {
   "cell_type": "code",
   "execution_count": 20,
   "metadata": {},
   "outputs": [
    {
     "data": {
      "text/plain": [
       "2"
      ]
     },
     "execution_count": 20,
     "metadata": {},
     "output_type": "execute_result"
    }
   ],
   "source": [
    "count_higher_peaks(spectra[25], 0.05)"
   ]
  },
  {
   "cell_type": "markdown",
   "metadata": {},
   "source": [
    "### Pick IDs of spectra to form the 'uniqueInchikeys' subset"
   ]
  },
  {
   "cell_type": "code",
   "execution_count": 21,
   "metadata": {},
   "outputs": [],
   "source": [
    "intensity_thres = 0.05\n",
    "\n",
    "ID_picks = []\n",
    "arr_inchikey14 = np.array([x[:14] for x in inchikey_lst])\n",
    "\n",
    "# Loop through all unique inchiques (considering 14 first characters)\n",
    "for inchikey14_unique in list(set(inchikey_lst_nonempty_first14)):\n",
    "    select = np.where(arr_inchikey14 == inchikey14_unique)[0]\n",
    "    \n",
    "    # Step 1 - select best spectrum qualities (according to gnps measure). 1 > 2 > 3\n",
    "    qualities = np.array([int(spectra[x].metadata['libraryquality']) for x in select])\n",
    "    select_best_quality = np.where(qualities == min(qualities))[0]\n",
    "    \n",
    "    # Step 2 - select the ones with most peaks > threshold\n",
    "    num_peaks = np.array([count_higher_peaks(spectra[x], intensity_thres) for x in select_best_quality])\n",
    "    pick = np.argmax(num_peaks)\n",
    "    ID_picks.append(select[pick])"
   ]
  },
  {
   "cell_type": "code",
   "execution_count": 22,
   "metadata": {},
   "outputs": [
    {
     "data": {
      "text/plain": [
       "4506"
      ]
     },
     "execution_count": 22,
     "metadata": {},
     "output_type": "execute_result"
    }
   ],
   "source": [
    "len(ID_picks)"
   ]
  },
  {
   "cell_type": "code",
   "execution_count": 23,
   "metadata": {},
   "outputs": [],
   "source": [
    "spectrumID_picks = []\n",
    "\n",
    "for id in ID_picks:\n",
    "    spectrumID_picks.append(spectra[id].metadata['spectrumid'])"
   ]
  },
  {
   "cell_type": "code",
   "execution_count": 24,
   "metadata": {},
   "outputs": [
    {
     "data": {
      "text/plain": [
       "['CCMSLIB00000849938',\n",
       " 'CCMSLIB00000849235',\n",
       " 'CCMSLIB00004691198',\n",
       " 'CCMSLIB00004720785',\n",
       " 'CCMSLIB00000845711',\n",
       " 'CCMSLIB00004692755',\n",
       " 'CCMSLIB00004705556',\n",
       " 'CCMSLIB00000578357',\n",
       " 'CCMSLIB00004693679',\n",
       " 'CCMSLIB00004683533']"
      ]
     },
     "execution_count": 24,
     "metadata": {},
     "output_type": "execute_result"
    }
   ],
   "source": [
    "spectrumID_picks[:10]"
   ]
  },
  {
   "cell_type": "code",
   "execution_count": 25,
   "metadata": {},
   "outputs": [
    {
     "data": {
      "text/plain": [
       "[2151, 1933, 8039, 15693, 1254, 8576, 11744, 457, 8801, 32168]"
      ]
     },
     "execution_count": 25,
     "metadata": {},
     "output_type": "execute_result"
    }
   ],
   "source": [
    "ID_picks[:10]"
   ]
  },
  {
   "cell_type": "code",
   "execution_count": 26,
   "metadata": {},
   "outputs": [],
   "source": [
    "# Save spectrum IDs to form the subset\n",
    "np.save('spectrumID_uniqueInchikey14_negative.npy', np.array(spectrumID_picks))"
   ]
  },
  {
   "cell_type": "markdown",
   "metadata": {},
   "source": [
    "### Collect spectra selected for subset"
   ]
  },
  {
   "cell_type": "code",
   "execution_count": 27,
   "metadata": {},
   "outputs": [],
   "source": [
    "input_file = os.path.join(PATH_MS_DATA, \"cleaned_MGFs\", \"MS-MS_spectra_GNPS_cleaned_negative_mode_spectra.mgf\")\n",
    "\n",
    "def pick_spectra_subset(input_mgf, picks):\n",
    "    \"\"\" Collect spectra in file (line by line). And then create subset MGF.\n",
    "    \"\"\"\n",
    "    subset_spectra = []\n",
    "    with open(input_mgf) as f:\n",
    "        for line in f.readlines():\n",
    "            if line.startswith('BEGIN ION'):\n",
    "                # Fresh spectrum\n",
    "                spectrum = []\n",
    "                spectrum_id = 0 #reset\n",
    "            if line.startswith('SPECTRUMID'):\n",
    "                spectrum_id = line.strip().split('=')[1]\n",
    "            spectrum.append(line)\n",
    "            \n",
    "            if line.startswith('END ION'):\n",
    "                if spectrum_id in picks:\n",
    "                    picks.remove(spectrum_id) #shorten query list to speed up search\n",
    "                    subset_spectra.append(spectrum)\n",
    "    return subset_spectra\n",
    "\n",
    "subset_spectra = pick_spectra_subset(input_file, spectrumID_picks)"
   ]
  },
  {
   "cell_type": "markdown",
   "metadata": {},
   "source": [
    "### check if list of spectra looks OK"
   ]
  },
  {
   "cell_type": "code",
   "execution_count": 28,
   "metadata": {},
   "outputs": [
    {
     "data": {
      "text/plain": [
       "['BEGIN IONS\\n',\n",
       " 'PEPMASS=805.559\\n',\n",
       " 'CHARGE=1-\\n',\n",
       " 'MSLEVEL=2\\n',\n",
       " 'SOURCE_INSTRUMENT=ESI-Orbitrap\\n',\n",
       " 'FILENAME=Standards_n_1ugmL_chenodeoxycholic.mzXML\\n',\n",
       " 'SEQ=*..*\\n',\n",
       " 'IONMODE=negative\\n',\n",
       " 'ORGANISM=BILELIB19\\n',\n",
       " 'NAME=chenodeoxycholic acid 2M-2H+Na\\n',\n",
       " 'PI=Dorrestein\\n',\n",
       " 'DATACOLLECTOR=A. Jarmusch\\n',\n",
       " 'SMILES=C[C@H](CCC(=O)O)[C@H]1CC[C@@H]2[C@@]1(CC[C@H]3[C@H]2[C@@H](C[C@H]4[C@@]3(CC[C@H](C4)O)C)O)C\\n',\n",
       " 'INCHI=\"InChI=1S/C24H40O4/c1-14(4-7-21(27)28)17-5-6-18-22-19(9-11-24(17,18)3)23(2)10-8-16(25)12-15(23)13-20(22)26/h14-20,22,25-26H,4-13H2,1-3H3,(H,27,28)/t14?,15-,16+,17+,18-,19-,20+,22-,23?,24?/m0/s2\"\\n',\n",
       " 'INCHIKEY=RUDATBOHQWOJDD-PODLAYBOSA-N\\n',\n",
       " 'PUBMED=N/A\\n',\n",
       " 'SUBMITUSER=mpanitchpakdi\\n',\n",
       " 'TAGS=\\n',\n",
       " 'LIBRARYQUALITY=1\\n',\n",
       " 'SPECTRUMID=CCMSLIB00005435446\\n',\n",
       " 'SCANS=1698\\n',\n",
       " '54.15683\\t4176.083008\\n',\n",
       " '62.165394\\t3917.312256\\n',\n",
       " '65.461113\\t3745.02124\\n',\n",
       " '73.985023\\t4534.359375\\n',\n",
       " '76.312347\\t3977.573486\\n',\n",
       " '91.88179\\t6119.737305\\n',\n",
       " '109.261108\\t4452.643066\\n',\n",
       " '170.122375\\t4326.562012\\n',\n",
       " '244.284744\\t4534.979492\\n',\n",
       " '391.287292\\t666826.1875\\n',\n",
       " '395.259521\\t12378.353516\\n',\n",
       " '409.291077\\t26042.242188\\n',\n",
       " '413.263\\t40748.246094\\n',\n",
       " '805.553101\\t33842.679688\\n',\n",
       " 'END IONS\\n',\n",
       " '\\n']"
      ]
     },
     "execution_count": 28,
     "metadata": {},
     "output_type": "execute_result"
    }
   ],
   "source": [
    "subset_spectra[0]"
   ]
  },
  {
   "cell_type": "markdown",
   "metadata": {},
   "source": [
    "### Write spectra subset to MGF file"
   ]
  },
  {
   "cell_type": "code",
   "execution_count": 29,
   "metadata": {},
   "outputs": [],
   "source": [
    "output_file_subset = os.path.join(PATH_MS_DATA, \"MS-MS_spectra_GNPS_cleaned_negative_mode_spectra_uniqueInchikey_subset.mgf\")\n",
    "\n",
    "with open(output_file_subset, 'w') as f:\n",
    "    for c in subset_spectra[:]:\n",
    "        for l in c:\n",
    "            try:\n",
    "                f.write(l.encode('utf8', 'replace').decode('utf8', 'replace'))\n",
    "            except UnicodeEncodeError:\n",
    "                f.write(l.encode('ascii', 'replace').decode('utf8', 'replace'))\n",
    "                print(l)\n",
    "        #f.write('\\n')"
   ]
  }
 ],
 "metadata": {
  "kernelspec": {
   "display_name": "Python 3",
   "language": "python",
   "name": "python3"
  },
  "language_info": {
   "codemirror_mode": {
    "name": "ipython",
    "version": 3
   },
   "file_extension": ".py",
   "mimetype": "text/x-python",
   "name": "python",
   "nbconvert_exporter": "python",
   "pygments_lexer": "ipython3",
   "version": "3.6.10"
  }
 },
 "nbformat": 4,
 "nbformat_minor": 2
}