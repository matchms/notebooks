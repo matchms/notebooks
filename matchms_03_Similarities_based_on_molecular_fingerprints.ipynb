{
 "cells": [
  {
   "cell_type": "markdown",
   "metadata": {},
   "source": [
    "# Spec2Vec - calculate similarities based on molecular fingerprints"
   ]
  },
  {
   "cell_type": "code",
   "execution_count": 1,
   "metadata": {},
   "outputs": [],
   "source": [
    "import numpy as np\n",
    "from matplotlib import pyplot as plt\n",
    "import matplotlib\n",
    "import os\n",
    "import sys\n",
    "sys.path.insert(0, os.path.dirname(os.getcwd()))\n",
    "\n",
    "# Locations (import paths from config.py)\n",
    "from config import ROOT, PATH_SPEC2VEC, PATH_MS_DATA, PATH_SAVE_MODEL, PATH_COMPUTED, PATH_OUTPUT\n",
    "\n",
    "sys.path.insert(0, PATH_SPEC2VEC)\n",
    "\n",
    "import matchms.helper_functions as functions\n",
    "import matchms.MS_functions"
   ]
  },
  {
   "cell_type": "markdown",
   "metadata": {},
   "source": [
    "## Import unique-inchi subset"
   ]
  },
  {
   "cell_type": "code",
   "execution_count": 3,
   "metadata": {},
   "outputs": [
    {
     "name": "stdout",
     "output_type": "stream",
     "text": [
      "Spectra json file found and loaded.\n"
     ]
    }
   ],
   "source": [
    "# Import & filter data from positive uniqueInchikey dataset\n",
    "file_json = os.path.join(PATH_MS_DATA, \"uniqueInchikey_positive_minmax_10_1000_2dec_exp08_191116.json\")\n",
    "file_mgf = os.path.join(PATH_MS_DATA, \"allGNPS_positive_uniqueInchikey_191107.mgf\")\n",
    "\n",
    "spectra, spectra_dict, MS_documents, MS_documents_intensity, spectra_metadata = MS_functions.load_MGF_data(file_mgf = file_mgf,\n",
    "                                                           file_json = file_json,\n",
    "                                                           num_decimals = 2,\n",
    "                                                           min_frag = 0.0, max_frag = 1000.0,\n",
    "                                                           min_loss = 5.0, max_loss = 500.0,\n",
    "                                                           min_intensity_perc = 0.0,\n",
    "                                                           exp_intensity_filter = 0.8,\n",
    "                                                           min_keep_peaks_0 = 10,\n",
    "                                                           min_keep_peaks_per_mz = 20/200,\n",
    "                                                           min_peaks = 10,\n",
    "                                                           max_peaks = 1000, #None, #500,\n",
    "                                                           peak_loss_words = ['peak_', 'loss_'])"
   ]
  },
  {
   "cell_type": "code",
   "execution_count": 4,
   "metadata": {},
   "outputs": [
    {
     "name": "stdout",
     "output_type": "stream",
     "text": [
      "Number of imported spectra: 10998\n"
     ]
    }
   ],
   "source": [
    "print(\"Number of imported spectra:\", len(spectra))"
   ]
  },
  {
   "cell_type": "code",
   "execution_count": 5,
   "metadata": {},
   "outputs": [
    {
     "data": {
      "text/html": [
       "<div>\n",
       "<style scoped>\n",
       "    .dataframe tbody tr th:only-of-type {\n",
       "        vertical-align: middle;\n",
       "    }\n",
       "\n",
       "    .dataframe tbody tr th {\n",
       "        vertical-align: top;\n",
       "    }\n",
       "\n",
       "    .dataframe thead th {\n",
       "        text-align: right;\n",
       "    }\n",
       "</style>\n",
       "<table border=\"1\" class=\"dataframe\">\n",
       "  <thead>\n",
       "    <tr style=\"text-align: right;\">\n",
       "      <th></th>\n",
       "      <th>doc_ID</th>\n",
       "      <th>gnps_ID</th>\n",
       "      <th>name</th>\n",
       "      <th>title</th>\n",
       "      <th>precursor_mz</th>\n",
       "      <th>num_peaks_losses</th>\n",
       "      <th>inchi</th>\n",
       "      <th>inchikey</th>\n",
       "      <th>smiles</th>\n",
       "      <th>charge</th>\n",
       "    </tr>\n",
       "  </thead>\n",
       "  <tbody>\n",
       "    <tr>\n",
       "      <th>0</th>\n",
       "      <td>0</td>\n",
       "      <td>CCMSLIB00005435506</td>\n",
       "      <td>cholic acid M+Na</td>\n",
       "      <td>NaN</td>\n",
       "      <td>431.277</td>\n",
       "      <td>35</td>\n",
       "      <td>\"InChI=1S/C24H40O5/c1-13(4-7-21(28)29)16-5-6-1...</td>\n",
       "      <td>BHQCQFFYRZLCQQ-IHELEQLESA-N</td>\n",
       "      <td>C[C@H](CCC(=O)O)[C@H]1CC[C@@H]2[C@@]1([C@H](C[...</td>\n",
       "      <td>1</td>\n",
       "    </tr>\n",
       "    <tr>\n",
       "      <th>1</th>\n",
       "      <td>1</td>\n",
       "      <td>CCMSLIB00005435507</td>\n",
       "      <td>deoxycholic acid M-H2O+H</td>\n",
       "      <td>NaN</td>\n",
       "      <td>375.289</td>\n",
       "      <td>157</td>\n",
       "      <td>\"InChI=1S/C24H40O4/c1-14(4-9-22(27)28)18-7-8-1...</td>\n",
       "      <td>KXGVEGMKQFWNSR-BKAWJTANSA-N</td>\n",
       "      <td>C[C@H](CCC(=O)O)[C@H]1CC[C@@H]2[C@@]1([C@H](C[...</td>\n",
       "      <td>1</td>\n",
       "    </tr>\n",
       "    <tr>\n",
       "      <th>2</th>\n",
       "      <td>2</td>\n",
       "      <td>CCMSLIB00005435517</td>\n",
       "      <td>glycocholic acid 2M+H</td>\n",
       "      <td>NaN</td>\n",
       "      <td>931.625</td>\n",
       "      <td>91</td>\n",
       "      <td>\"InChI=1S/C26H43NO6/c1-14(4-7-22(31)27-13-23(3...</td>\n",
       "      <td>RFDAIACWWDREDC-VKRKCYKBSA-N</td>\n",
       "      <td>C[C@H](CCC(=O)NCC(=O)O)[C@H]1CC[C@@H]2[C@@]1([...</td>\n",
       "      <td>1</td>\n",
       "    </tr>\n",
       "    <tr>\n",
       "      <th>3</th>\n",
       "      <td>3</td>\n",
       "      <td>CCMSLIB00005435523</td>\n",
       "      <td>glycodeoxycholic acid 2M+Na</td>\n",
       "      <td>NaN</td>\n",
       "      <td>921.617</td>\n",
       "      <td>24</td>\n",
       "      <td>\"InChI=1S/C26H43NO5/c1-15(4-9-23(30)27-14-24(3...</td>\n",
       "      <td>WVULKSPCQVQLCU-JKPPYMBGSA-N</td>\n",
       "      <td>C[C@H](CCC(=O)NCC(=O)O)[C@H]1CCC2[C@@]1([C@H](...</td>\n",
       "      <td>1</td>\n",
       "    </tr>\n",
       "    <tr>\n",
       "      <th>4</th>\n",
       "      <td>4</td>\n",
       "      <td>CCMSLIB00005435528</td>\n",
       "      <td>glycohyocholic acid 2M+K</td>\n",
       "      <td>NaN</td>\n",
       "      <td>953.606</td>\n",
       "      <td>15</td>\n",
       "      <td>\"InChI=1S/C26H43NO6/c1-14(4-7-20(29)27-13-21(3...</td>\n",
       "      <td>ZQYUKJFJPJDMMR-ZDWCHQGWSA-N</td>\n",
       "      <td>C[C@H](CCC(=O)NCC(=O)O)[C@H]1CC[C@@H]2[C@@]1(C...</td>\n",
       "      <td>1</td>\n",
       "    </tr>\n",
       "  </tbody>\n",
       "</table>\n",
       "</div>"
      ],
      "text/plain": [
       "   doc_ID             gnps_ID                         name title  \\\n",
       "0       0  CCMSLIB00005435506             cholic acid M+Na   NaN   \n",
       "1       1  CCMSLIB00005435507     deoxycholic acid M-H2O+H   NaN   \n",
       "2       2  CCMSLIB00005435517        glycocholic acid 2M+H   NaN   \n",
       "3       3  CCMSLIB00005435523  glycodeoxycholic acid 2M+Na   NaN   \n",
       "4       4  CCMSLIB00005435528     glycohyocholic acid 2M+K   NaN   \n",
       "\n",
       "   precursor_mz  num_peaks_losses  \\\n",
       "0       431.277                35   \n",
       "1       375.289               157   \n",
       "2       931.625                91   \n",
       "3       921.617                24   \n",
       "4       953.606                15   \n",
       "\n",
       "                                               inchi  \\\n",
       "0  \"InChI=1S/C24H40O5/c1-13(4-7-21(28)29)16-5-6-1...   \n",
       "1  \"InChI=1S/C24H40O4/c1-14(4-9-22(27)28)18-7-8-1...   \n",
       "2  \"InChI=1S/C26H43NO6/c1-14(4-7-22(31)27-13-23(3...   \n",
       "3  \"InChI=1S/C26H43NO5/c1-15(4-9-23(30)27-14-24(3...   \n",
       "4  \"InChI=1S/C26H43NO6/c1-14(4-7-20(29)27-13-21(3...   \n",
       "\n",
       "                      inchikey  \\\n",
       "0  BHQCQFFYRZLCQQ-IHELEQLESA-N   \n",
       "1  KXGVEGMKQFWNSR-BKAWJTANSA-N   \n",
       "2  RFDAIACWWDREDC-VKRKCYKBSA-N   \n",
       "3  WVULKSPCQVQLCU-JKPPYMBGSA-N   \n",
       "4  ZQYUKJFJPJDMMR-ZDWCHQGWSA-N   \n",
       "\n",
       "                                              smiles  charge  \n",
       "0  C[C@H](CCC(=O)O)[C@H]1CC[C@@H]2[C@@]1([C@H](C[...       1  \n",
       "1  C[C@H](CCC(=O)O)[C@H]1CC[C@@H]2[C@@]1([C@H](C[...       1  \n",
       "2  C[C@H](CCC(=O)NCC(=O)O)[C@H]1CC[C@@H]2[C@@]1([...       1  \n",
       "3  C[C@H](CCC(=O)NCC(=O)O)[C@H]1CCC2[C@@]1([C@H](...       1  \n",
       "4  C[C@H](CCC(=O)NCC(=O)O)[C@H]1CC[C@@H]2[C@@]1(C...       1  "
      ]
     },
     "execution_count": 5,
     "metadata": {},
     "output_type": "execute_result"
    }
   ],
   "source": [
    "spectra_metadata.head()"
   ]
  },
  {
   "cell_type": "markdown",
   "metadata": {},
   "source": [
    "# Calculate molecular fingerprints\n",
    "There are many different types of molecular fingerprints. And they all come in different flavors and bit depths.\n",
    "We here focus on two common types: circular fingerprints (such as ecfp or morgan) and daylight-like fingerprints.\n",
    "\n",
    "## 1. Circular fingerprint --> \"morgan3\" from RDkit"
   ]
  },
  {
   "cell_type": "code",
   "execution_count": 6,
   "metadata": {
    "scrolled": true
   },
   "outputs": [
    {
     "name": "stdout",
     "output_type": "stream",
     "text": [
      "---- (1) Generating RDkit molecules from inchi or smiles...\n",
      "No proper molecule generated for spectrum 1435\n",
      "No proper molecule generated for spectrum 1440\n",
      "No proper molecule generated for spectrum 2232\n",
      "No proper molecule generated for spectrum 2233\n",
      "No proper molecule generated for spectrum 9384\n",
      "No proper molecule generated for spectrum 10791\n",
      "No proper molecule generated for spectrum 10991\n",
      "---- (2) Generating fingerprints from molecules...\n",
      "Problem with molecule from spectrum 1435\n",
      "Problem with molecule from spectrum 1440\n",
      "Problem with molecule from spectrum 2232\n",
      "Problem with molecule from spectrum 2233\n",
      "Problem with molecule from spectrum 9384\n",
      "Problem with molecule from spectrum 10791\n",
      "Problem with molecule from spectrum 10991\n"
     ]
    }
   ],
   "source": [
    "fingerprints_morgan3_2048, exclude_IDs = MS_functions.get_mol_fingerprints(spectra, method = \"morgan3\", nBits = 2048)"
   ]
  },
  {
   "cell_type": "code",
   "execution_count": 7,
   "metadata": {},
   "outputs": [
    {
     "data": {
      "text/plain": [
       "[1435, 1440, 2232, 2233, 9384, 10791, 10991]"
      ]
     },
     "execution_count": 7,
     "metadata": {},
     "output_type": "execute_result"
    }
   ],
   "source": [
    "exclude_IDs"
   ]
  },
  {
   "cell_type": "code",
   "execution_count": 8,
   "metadata": {},
   "outputs": [
    {
     "data": {
      "text/plain": [
       "((2048,), 10998)"
      ]
     },
     "execution_count": 8,
     "metadata": {},
     "output_type": "execute_result"
    }
   ],
   "source": [
    "fingerprints_morgan3_2048[0].shape, len(fingerprints_morgan3_2048)"
   ]
  },
  {
   "cell_type": "code",
   "execution_count": 9,
   "metadata": {},
   "outputs": [
    {
     "data": {
      "text/plain": [
       "array([0, 1, 0, 0, 0, 0, 0, 0, 1, 0, 0, 0, 0, 0, 0, 0, 0, 0, 0, 0])"
      ]
     },
     "execution_count": 9,
     "metadata": {},
     "output_type": "execute_result"
    }
   ],
   "source": [
    "fingerprints_morgan3_2048[0][:20]"
   ]
  },
  {
   "cell_type": "markdown",
   "metadata": {},
   "source": [
    "## 2. Daylight-like fingerprint --> RDkit"
   ]
  },
  {
   "cell_type": "code",
   "execution_count": 10,
   "metadata": {},
   "outputs": [
    {
     "name": "stdout",
     "output_type": "stream",
     "text": [
      "---- (1) Generating RDkit molecules from inchi or smiles...\n",
      "No proper molecule generated for spectrum 1435\n",
      "No proper molecule generated for spectrum 1440\n",
      "No proper molecule generated for spectrum 2232\n",
      "No proper molecule generated for spectrum 2233\n",
      "No proper molecule generated for spectrum 9384\n",
      "No proper molecule generated for spectrum 10791\n",
      "No proper molecule generated for spectrum 10991\n",
      "---- (2) Generating fingerprints from molecules...\n",
      "Problem with molecule from spectrum 1435\n",
      "Problem with molecule from spectrum 1440\n",
      "Problem with molecule from spectrum 2232\n",
      "Problem with molecule from spectrum 2233\n",
      "Problem with molecule from spectrum 9384\n",
      "Problem with molecule from spectrum 10791\n",
      "Problem with molecule from spectrum 10991\n"
     ]
    }
   ],
   "source": [
    "fingerprints_daylight_2048, exclude_IDs = MS_functions.get_mol_fingerprints(spectra, method = \"daylight\", nBits = 2048)"
   ]
  },
  {
   "cell_type": "code",
   "execution_count": 11,
   "metadata": {},
   "outputs": [
    {
     "data": {
      "text/plain": [
       "array([0, 0, 0, 0, 0, 0, 0, 0, 0, 0, 0, 0, 0, 0, 0, 1, 0, 0, 0, 0])"
      ]
     },
     "execution_count": 11,
     "metadata": {},
     "output_type": "execute_result"
    }
   ],
   "source": [
    "fingerprints_daylight_2048[0][:20]"
   ]
  },
  {
   "cell_type": "code",
   "execution_count": 12,
   "metadata": {},
   "outputs": [
    {
     "data": {
      "text/plain": [
       "((2048,), 10998)"
      ]
     },
     "execution_count": 12,
     "metadata": {},
     "output_type": "execute_result"
    }
   ],
   "source": [
    "fingerprints_daylight_2048[0].shape, len(fingerprints_daylight_2048)"
   ]
  },
  {
   "cell_type": "markdown",
   "metadata": {},
   "source": [
    "### Note: for 6 spectra, fingerprints could not been made\n",
    "This spectra will be ignored for the rest of the analysis."
   ]
  },
  {
   "cell_type": "code",
   "execution_count": 13,
   "metadata": {},
   "outputs": [
    {
     "data": {
      "text/plain": [
       "[1435, 1440, 2232, 2233, 9384, 10791, 10991]"
      ]
     },
     "execution_count": 13,
     "metadata": {},
     "output_type": "execute_result"
    }
   ],
   "source": [
    "exclude_IDs"
   ]
  },
  {
   "cell_type": "code",
   "execution_count": 14,
   "metadata": {},
   "outputs": [
    {
     "data": {
      "text/plain": [
       "array([0, 0, 0, 0, 0, 0, 0, 0, 0, 0, 0, 0, 0, 0, 0, 0, 0, 0, 0, 0])"
      ]
     },
     "execution_count": 14,
     "metadata": {},
     "output_type": "execute_result"
    }
   ],
   "source": [
    "fingerprints_morgan3_2048[1435][:20]"
   ]
  },
  {
   "cell_type": "markdown",
   "metadata": {},
   "source": [
    "# Calculate all-vs-all of molecular similarity scores\n",
    "### Calculate all-vs-all matrix of molecular similarities (dice score using morgan3 fingerprints)"
   ]
  },
  {
   "cell_type": "code",
   "execution_count": 15,
   "metadata": {},
   "outputs": [
    {
     "name": "stdout",
     "output_type": "stream",
     "text": [
      "Could not find file  C:\\OneDrive - Netherlands eScience Center\\Project_Wageningen_iOMEGA\\Spec2Vec\\computed_results\\MS_sim_mol_uniqueInchikey_morgan3_dice2048_191119.npy\n",
      "Molecular scores will be calculated from scratch.\n",
      " Calculated submatrix 121 out of 121----------------------------------------\n",
      "Succesfully calculated matrix containing all-vs-all molecular similarity values.\n",
      "Matrix was saved under: C:\\OneDrive - Netherlands eScience Center\\Project_Wageningen_iOMEGA\\Spec2Vec\\computed_results\\MS_sim_mol_uniqueInchikey_morgan3_dice2048_191119.npy\n"
     ]
    }
   ],
   "source": [
    "import matchms.MS_similarity_classical as MS_sim_classic\n",
    "\n",
    "filename = os.path.join(PATH_COMPUTED, 'MS_sim_mol_uniqueInchikey_morgan3_dice2048_191119.npy')\n",
    "mol_sim = MS_sim_classic.mol_sim_matrix(fingerprints_morgan3_2048,\n",
    "                                       fingerprints_morgan3_2048,\n",
    "                                       method = 'dice',\n",
    "                                       filename = filename)"
   ]
  },
  {
   "cell_type": "markdown",
   "metadata": {},
   "source": [
    "### Calculate all-vs-all matrix of molecular similarities (jaccard using fingerprints)"
   ]
  },
  {
   "cell_type": "code",
   "execution_count": 29,
   "metadata": {},
   "outputs": [
    {
     "name": "stdout",
     "output_type": "stream",
     "text": [
      "Could not find file  C:\\OneDrive - Netherlands eScience Center\\Project_Wageningen_iOMEGA\\Spec2Vec\\computed_results\\MS_sim_mol_uniqueInchikey_rdkit2048_jaccard_191119.npy\n",
      "Molecular scores will be calculated from scratch.\n",
      " Calculated submatrix 121 out of 121----------------------------------------\n",
      "Succesfully calculated matrix containing all-vs-all molecular similarity values.\n",
      "Matrix was saved under: C:\\OneDrive - Netherlands eScience Center\\Project_Wageningen_iOMEGA\\Spec2Vec\\computed_results\\MS_sim_mol_uniqueInchikey_rdkit2048_jaccard_191119.npy\n"
     ]
    }
   ],
   "source": [
    "filename = os.path.join(PATH_COMPUTED, 'MS_sim_mol_uniqueInchikey_rdkit2048_jaccard_191119.npy')\n",
    "mol_sim = MS_sim_classic.mol_sim_matrix(fingerprints_daylight_2048,\n",
    "                                       fingerprints_daylight_2048,\n",
    "                                       method = 'jaccard',\n",
    "                                       filename = filename)"
   ]
  }
 ],
 "metadata": {
  "kernelspec": {
   "display_name": "Python 3",
   "language": "python",
   "name": "python3"
  },
  "language_info": {
   "codemirror_mode": {
    "name": "ipython",
    "version": 3
   },
   "file_extension": ".py",
   "mimetype": "text/x-python",
   "name": "python",
   "nbconvert_exporter": "python",
   "pygments_lexer": "ipython3",
   "version": "3.6.10"
  }
 },
 "nbformat": 4,
 "nbformat_minor": 2
}
