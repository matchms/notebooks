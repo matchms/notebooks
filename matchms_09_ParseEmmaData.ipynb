{
 "cells": [
  {
   "cell_type": "code",
   "execution_count": 6,
   "metadata": {},
   "outputs": [],
   "source": [
    "import os\n",
    "import csv\n",
    "import pandas as pd\n",
    "import numpy as np"
   ]
  },
  {
   "cell_type": "code",
   "execution_count": 7,
   "metadata": {},
   "outputs": [],
   "source": [
    "input_data_dir = '/Users/simon/Dropbox/TP pairs/'\n",
    "pairs_file = 'PairsTableSI-1_TrueOnly.xlsx'"
   ]
  },
  {
   "cell_type": "code",
   "execution_count": 8,
   "metadata": {},
   "outputs": [],
   "source": [
    "df = pd.read_excel(os.path.join(input_data_dir,pairs_file))"
   ]
  },
  {
   "cell_type": "code",
   "execution_count": 9,
   "metadata": {},
   "outputs": [
    {
     "data": {
      "text/html": [
       "<div>\n",
       "<style scoped>\n",
       "    .dataframe tbody tr th:only-of-type {\n",
       "        vertical-align: middle;\n",
       "    }\n",
       "\n",
       "    .dataframe tbody tr th {\n",
       "        vertical-align: top;\n",
       "    }\n",
       "\n",
       "    .dataframe thead th {\n",
       "        text-align: right;\n",
       "    }\n",
       "</style>\n",
       "<table border=\"1\" class=\"dataframe\">\n",
       "  <thead>\n",
       "    <tr style=\"text-align: right;\">\n",
       "      <th></th>\n",
       "      <th>TP_ID</th>\n",
       "      <th>par_ID</th>\n",
       "      <th>Transformation_Product</th>\n",
       "      <th>Parent_compound</th>\n",
       "      <th>Type</th>\n",
       "      <th>TP_CAS</th>\n",
       "      <th>TP_logDph7</th>\n",
       "      <th>TP_SMILES</th>\n",
       "      <th>TP_formula</th>\n",
       "      <th>TP_MZ</th>\n",
       "      <th>par_CAS</th>\n",
       "      <th>par_logDph7</th>\n",
       "      <th>par_SMILES</th>\n",
       "      <th>par_formula</th>\n",
       "      <th>par_MZ</th>\n",
       "      <th>Ionization</th>\n",
       "      <th>Mass_Diff</th>\n",
       "      <th>Form_Diff</th>\n",
       "      <th>TanimotoDissimilarity</th>\n",
       "      <th>Transformation</th>\n",
       "    </tr>\n",
       "  </thead>\n",
       "  <tbody>\n",
       "    <tr>\n",
       "      <th>0</th>\n",
       "      <td>249</td>\n",
       "      <td>185</td>\n",
       "      <td>N4-Acetyl-Sulfathiazol</td>\n",
       "      <td>Sulfathiazol</td>\n",
       "      <td>True pair</td>\n",
       "      <td>127-76-4</td>\n",
       "      <td>0.686881</td>\n",
       "      <td>CC(=O)NC1=CC=C(C=C1)S(=O)(=O)NC1=NC=CS1</td>\n",
       "      <td>C11H11N3O3S2</td>\n",
       "      <td>297.0242</td>\n",
       "      <td>127-76-4</td>\n",
       "      <td>0.691542</td>\n",
       "      <td>NC1=CC=C(C=C1)S(=O)(=O)NC1=NC=CS1</td>\n",
       "      <td>C9H9N3O2S2</td>\n",
       "      <td>255.0136</td>\n",
       "      <td>positive</td>\n",
       "      <td>42.0106</td>\n",
       "      <td>C2H2O1</td>\n",
       "      <td>0.287234</td>\n",
       "      <td>acetylation</td>\n",
       "    </tr>\n",
       "    <tr>\n",
       "      <th>1</th>\n",
       "      <td>236</td>\n",
       "      <td>702</td>\n",
       "      <td>4-Acetamidoantipyrin (=N-Acetyl-4-Aminoantipyr...</td>\n",
       "      <td>Aminopyrine</td>\n",
       "      <td>True pair</td>\n",
       "      <td>83-15-8</td>\n",
       "      <td>0.153812</td>\n",
       "      <td>CN1N(C(=O)C(NC(C)=O)=C1C)C1=CC=CC=C1</td>\n",
       "      <td>C13H15N3O2</td>\n",
       "      <td>245.1164</td>\n",
       "      <td>83-15-8</td>\n",
       "      <td>1.150468</td>\n",
       "      <td>CN(C)C1=C(C)N(C)N(C1=O)C1=CC=CC=C1</td>\n",
       "      <td>C13H17N3O</td>\n",
       "      <td>231.1372</td>\n",
       "      <td>positive</td>\n",
       "      <td>13.9792</td>\n",
       "      <td>H-2O1</td>\n",
       "      <td>0.283019</td>\n",
       "      <td>multiple</td>\n",
       "    </tr>\n",
       "    <tr>\n",
       "      <th>2</th>\n",
       "      <td>245</td>\n",
       "      <td>183</td>\n",
       "      <td>N4-Acetyl-Sulfadimethoxin</td>\n",
       "      <td>Sulfadimethoxin</td>\n",
       "      <td>True pair</td>\n",
       "      <td>24341-30-8</td>\n",
       "      <td>0.998810</td>\n",
       "      <td>COC1=CC(OC)=NC(NS(=O)(=O)C2=CC=C(NC(C)=O)C=C2)=N1</td>\n",
       "      <td>C14H16N4O5S</td>\n",
       "      <td>352.0841</td>\n",
       "      <td>83-15-8</td>\n",
       "      <td>0.967458</td>\n",
       "      <td>COC1=CC(NS(=O)(=O)C2=CC=C(N)C=C2)=NC(OC)=N1</td>\n",
       "      <td>C12H14N4O4S</td>\n",
       "      <td>310.0736</td>\n",
       "      <td>positive</td>\n",
       "      <td>42.0105</td>\n",
       "      <td>C2H2O1</td>\n",
       "      <td>0.283388</td>\n",
       "      <td>acetylation</td>\n",
       "    </tr>\n",
       "    <tr>\n",
       "      <th>3</th>\n",
       "      <td>247</td>\n",
       "      <td>181</td>\n",
       "      <td>N4-Acetyl-Sulfamethazin</td>\n",
       "      <td>Sulfamethazin</td>\n",
       "      <td>True pair</td>\n",
       "      <td>100-90-3</td>\n",
       "      <td>0.414393</td>\n",
       "      <td>CC(=O)NC1=CC=C(C=C1)S(=O)(=O)NC1=NC(C)=CC(C)=N1</td>\n",
       "      <td>C14H16N4O3S</td>\n",
       "      <td>320.0943</td>\n",
       "      <td>117-96-4</td>\n",
       "      <td>0.393304</td>\n",
       "      <td>CC1=CC(C)=NC(NS(=O)(=O)C2=CC=C(N)C=C2)=N1</td>\n",
       "      <td>C12H14N4O2S</td>\n",
       "      <td>278.0837</td>\n",
       "      <td>positive</td>\n",
       "      <td>42.0106</td>\n",
       "      <td>C2H2O1</td>\n",
       "      <td>0.250996</td>\n",
       "      <td>acetylation</td>\n",
       "    </tr>\n",
       "    <tr>\n",
       "      <th>4</th>\n",
       "      <td>248</td>\n",
       "      <td>179</td>\n",
       "      <td>N4-Acetyl-Sulfadiazin</td>\n",
       "      <td>Sulfadiazin</td>\n",
       "      <td>True pair</td>\n",
       "      <td>127-74-2</td>\n",
       "      <td>0.150364</td>\n",
       "      <td>CC(=O)NC1=CC=C(C=C1)S(=O)(=O)NC1=NC=CC=N1</td>\n",
       "      <td>C12H12N4O3S</td>\n",
       "      <td>292.0630</td>\n",
       "      <td>78649-41-9</td>\n",
       "      <td>0.129100</td>\n",
       "      <td>NC1=CC=C(C=C1)S(=O)(=O)NC1=NC=CC=N1</td>\n",
       "      <td>C10H10N4O2S</td>\n",
       "      <td>250.0524</td>\n",
       "      <td>positive</td>\n",
       "      <td>42.0106</td>\n",
       "      <td>C2H2O1</td>\n",
       "      <td>0.274038</td>\n",
       "      <td>acetylation</td>\n",
       "    </tr>\n",
       "  </tbody>\n",
       "</table>\n",
       "</div>"
      ],
      "text/plain": [
       "   TP_ID  par_ID                             Transformation_Product  \\\n",
       "0    249     185                             N4-Acetyl-Sulfathiazol   \n",
       "1    236     702  4-Acetamidoantipyrin (=N-Acetyl-4-Aminoantipyr...   \n",
       "2    245     183                          N4-Acetyl-Sulfadimethoxin   \n",
       "3    247     181                            N4-Acetyl-Sulfamethazin   \n",
       "4    248     179                              N4-Acetyl-Sulfadiazin   \n",
       "\n",
       "   Parent_compound       Type      TP_CAS  TP_logDph7  \\\n",
       "0     Sulfathiazol  True pair    127-76-4    0.686881   \n",
       "1      Aminopyrine  True pair     83-15-8    0.153812   \n",
       "2  Sulfadimethoxin  True pair  24341-30-8    0.998810   \n",
       "3    Sulfamethazin  True pair    100-90-3    0.414393   \n",
       "4      Sulfadiazin  True pair    127-74-2    0.150364   \n",
       "\n",
       "                                           TP_SMILES    TP_formula     TP_MZ  \\\n",
       "0            CC(=O)NC1=CC=C(C=C1)S(=O)(=O)NC1=NC=CS1  C11H11N3O3S2  297.0242   \n",
       "1               CN1N(C(=O)C(NC(C)=O)=C1C)C1=CC=CC=C1    C13H15N3O2  245.1164   \n",
       "2  COC1=CC(OC)=NC(NS(=O)(=O)C2=CC=C(NC(C)=O)C=C2)=N1   C14H16N4O5S  352.0841   \n",
       "3    CC(=O)NC1=CC=C(C=C1)S(=O)(=O)NC1=NC(C)=CC(C)=N1   C14H16N4O3S  320.0943   \n",
       "4          CC(=O)NC1=CC=C(C=C1)S(=O)(=O)NC1=NC=CC=N1   C12H12N4O3S  292.0630   \n",
       "\n",
       "      par_CAS  par_logDph7                                   par_SMILES  \\\n",
       "0    127-76-4     0.691542            NC1=CC=C(C=C1)S(=O)(=O)NC1=NC=CS1   \n",
       "1     83-15-8     1.150468           CN(C)C1=C(C)N(C)N(C1=O)C1=CC=CC=C1   \n",
       "2     83-15-8     0.967458  COC1=CC(NS(=O)(=O)C2=CC=C(N)C=C2)=NC(OC)=N1   \n",
       "3    117-96-4     0.393304    CC1=CC(C)=NC(NS(=O)(=O)C2=CC=C(N)C=C2)=N1   \n",
       "4  78649-41-9     0.129100          NC1=CC=C(C=C1)S(=O)(=O)NC1=NC=CC=N1   \n",
       "\n",
       "   par_formula    par_MZ Ionization  Mass_Diff Form_Diff  \\\n",
       "0   C9H9N3O2S2  255.0136   positive    42.0106    C2H2O1   \n",
       "1    C13H17N3O  231.1372   positive    13.9792     H-2O1   \n",
       "2  C12H14N4O4S  310.0736   positive    42.0105    C2H2O1   \n",
       "3  C12H14N4O2S  278.0837   positive    42.0106    C2H2O1   \n",
       "4  C10H10N4O2S  250.0524   positive    42.0106    C2H2O1   \n",
       "\n",
       "   TanimotoDissimilarity Transformation  \n",
       "0               0.287234    acetylation  \n",
       "1               0.283019       multiple  \n",
       "2               0.283388    acetylation  \n",
       "3               0.250996    acetylation  \n",
       "4               0.274038    acetylation  "
      ]
     },
     "execution_count": 9,
     "metadata": {},
     "output_type": "execute_result"
    }
   ],
   "source": [
    "df.head()"
   ]
  },
  {
   "cell_type": "code",
   "execution_count": 11,
   "metadata": {},
   "outputs": [
    {
     "name": "stdout",
     "output_type": "stream",
     "text": [
      "150\n",
      "148\n",
      "146\n"
     ]
    }
   ],
   "source": [
    "print(len(df['Parent_compound'].unique()))\n",
    "print(len(df['par_SMILES'].unique()))\n",
    "print(len(df['par_ID'].unique()))"
   ]
  },
  {
   "cell_type": "code",
   "execution_count": 19,
   "metadata": {},
   "outputs": [
    {
     "name": "stdout",
     "output_type": "stream",
     "text": [
      "288 {('CCNC1=NC(NC(C)C)=NC(Cl)=N1', 'Atrazine'), ('CCNC1=NC(NC(C)C)=NC(Cl)=N1', 'Atrazin')}\n",
      "262 {('CCNC1=NC(NCC)=NC(Cl)=N1', 'Simazin'), ('c1(nc(nc(n1)Cl)NCC)NCC', 'Simazine')}\n",
      "284 {('CCNC1=NC(NC(C)(C)C)=NC(Cl)=N1', 'Terbutylazine'), ('CCNC1=NC(NC(C)(C)C)=NC(Cl)=N1', 'Terbutylazin')}\n",
      "645 {('COC1=CC=C(C=C1)C(CN(C)C)C1(O)CCCCC1', 'Venlafaxine'), ('COC1=CC=C(C=C1)C(CN(C)C)C1(O)CCCCC1', 'Venlafaxin')}\n",
      "2772 {('N1([C@@H](c2ccc(Cl)cc2)c2ccccc2)CCN(CCOCC(O)=O)CC1', 'Cetirizine'), ('C1CN(CCN1CCOCC(=O)O)C(C2=CC=CC=C2)C3=CC=C(C=C3)Cl', 'Cetirizine')}\n"
     ]
    }
   ],
   "source": [
    "par_dict = {p:set() for p in df['par_ID'].unique()}\n",
    "for i,p in enumerate(df['par_ID']):\n",
    "    tup = (df['par_SMILES'][i],df['Parent_compound'][i])\n",
    "    par_dict[p].add(tup)\n",
    "    \n",
    "for p,vals in par_dict.items():\n",
    "    if len(vals) > 1:\n",
    "        print(p,vals)"
   ]
  },
  {
   "cell_type": "markdown",
   "metadata": {},
   "source": [
    "# Code for importing and merging spectra"
   ]
  },
  {
   "cell_type": "code",
   "execution_count": 76,
   "metadata": {},
   "outputs": [
    {
     "name": "stdout",
     "output_type": "stream",
     "text": [
      "['/Users/simon/Dropbox/TP pairs/QExPlus_Xmas2014_pH_tx.csv', '/Users/simon/Dropbox/TP pairs/20140108_OrbiXL_pH_tx.csv', '/Users/simon/Dropbox/TP pairs/20140108_QEx_pH_tx.csv', '/Users/simon/Dropbox/TP pairs/20140108_QEx2_pH_tx.csv']\n"
     ]
    }
   ],
   "source": [
    "# grab all csv files\n",
    "import glob\n",
    "csv_files = glob.glob(os.path.join(input_data_dir,'*_pH*.csv'))\n",
    "print(csv_files)"
   ]
  },
  {
   "cell_type": "code",
   "execution_count": 100,
   "metadata": {},
   "outputs": [
    {
     "name": "stdout",
     "output_type": "stream",
     "text": [
      "Loading from /Users/simon/Dropbox/TP pairs/QExPlus_Xmas2014_pH_tx.csv\n",
      "Loading from /Users/simon/Dropbox/TP pairs/20140108_OrbiXL_pH_tx.csv\n",
      "Loading from /Users/simon/Dropbox/TP pairs/20140108_QEx_pH_tx.csv\n",
      "Loading from /Users/simon/Dropbox/TP pairs/20140108_QEx2_pH_tx.csv\n"
     ]
    }
   ],
   "source": [
    "# method to put the spec into a dict.\n",
    "# peak_delta_mz is set as per the paper.\n",
    "# merging: the intensity is the max of the two to be merged. Using either the absolute or relative values\n",
    "# (set absolute_intensity = False to use relative)\n",
    "# Note that the resulting spectra are not normalised\n",
    "def csv2spec(csv_file,peak_delta_mz = 0.001,absolute_intensity = True):\n",
    "    specs = {}\n",
    "    if absolute_intensity:\n",
    "        intensity_pos = 3\n",
    "    else:\n",
    "        intensity_pos = 4\n",
    "    with open(csv_file,'r') as f:\n",
    "        reader = csv.reader(f)\n",
    "        heads = next(reader)\n",
    "#         print(heads)\n",
    "        for line in reader:\n",
    "            if line[20] == 'CID':\n",
    "                continue\n",
    "            peak_tuple = [float(line[2]),float(line[intensity_pos])]\n",
    "            spec_id = int(line[1])\n",
    "            if not spec_id in specs:\n",
    "                specs[spec_id] = {}\n",
    "                for i,h in enumerate(heads[11:]):\n",
    "                    specs[spec_id][h] = line[11+i]\n",
    "                specs[spec_id]['peaks'] = []\n",
    "                specs[spec_id]['peaks'].append(peak_tuple)\n",
    "                ce = specs[spec_id]['CollisionEnergy']\n",
    "                specs[spec_id]['CollisionEnergy'] = [int(ce)] # make a list, and append energies as we merge\n",
    "                specs[spec_id]['SourceFile'] = csv_file\n",
    "            else:\n",
    "                energy = int(line[21])\n",
    "                if not energy in specs[spec_id]['CollisionEnergy']:\n",
    "                    specs[spec_id]['CollisionEnergy'].append(energy)\n",
    "                temp = np.array(specs[spec_id]['peaks'])\n",
    "                pos = np.nonzero((peak_tuple[0] > temp[:,0] - peak_delta_mz)*(peak_tuple[0]<temp[:,0] + peak_delta_mz))[0]\n",
    "                if len(pos) == 0:\n",
    "                    specs[spec_id]['peaks'].append(peak_tuple)\n",
    "                else:\n",
    "                    pos = pos[0]\n",
    "#                     print(\"Merging {} with {}\".format(peak_tuple[0],specs[spec_id]['peaks'][pos][0]))\n",
    "                    specs[spec_id]['peaks'][pos][1] = max(specs[spec_id]['peaks'][pos][1],peak_tuple[1])\n",
    "\n",
    "    # sort each spectrum by mz\n",
    "    for spec_id,spec in specs.items():\n",
    "        spec['peaks'].sort(key = lambda x: x[0])\n",
    "    return specs\n",
    "\n",
    "# Loop over all files and load / merge\n",
    "spec_dict = {}\n",
    "for filename in csv_files:\n",
    "    print(\"Loading from {}\".format(filename))\n",
    "    spec_dict[filename] = csv2spec(filename)"
   ]
  },
  {
   "cell_type": "markdown",
   "metadata": {},
   "source": [
    "## Map IDs to files\n",
    "\n",
    "Each molecule could be present in >1 file so make a handy dictionary to, for each ID, find the files it is in\n",
    "\n",
    "In the paper they say machine doesn't make much difference, so we can use any..."
   ]
  },
  {
   "cell_type": "code",
   "execution_count": 101,
   "metadata": {},
   "outputs": [],
   "source": [
    "id_to_file = {}\n",
    "for filename,specs in spec_dict.items():\n",
    "    for spec_id in specs:\n",
    "        if not spec_id in id_to_file:\n",
    "            id_to_file[spec_id] = [filename]\n",
    "        else:\n",
    "            id_to_file[spec_id].append(filename)"
   ]
  },
  {
   "cell_type": "code",
   "execution_count": 102,
   "metadata": {},
   "outputs": [
    {
     "name": "stdout",
     "output_type": "stream",
     "text": [
      "['/Users/simon/Dropbox/TP pairs/QExPlus_Xmas2014_pH_tx.csv', '/Users/simon/Dropbox/TP pairs/20140108_QEx2_pH_tx.csv']\n",
      "{'InstrumentType': 'LC-ESI-QFT', 'MSType': 'MS2', 'IonMode': 'POSITIVE', 'IonizationType': 'ESI', 'RT': '5.8', 'Name': '1H-Benzotriazole, 4(or 5)-methyl-', 'Formula': 'C7H7N3', 'CAS': '29878-31-7', 'InChIKey': 'CMGDVUCDZOBDNL-UHFFFAOYSA-N', 'FragmentationMode': 'HCD', 'CollisionEnergy': [15, 30, 45, 60, 75, 90, 120, 150, 180], 'Resolution': '35000', 'PrecursorType': '[M+H]+', 'PrecursorMZ': '134.0713', 'peaks': [[50.01508, 61841352.0], [51.02277, 150785120.0], [52.01801, 3402984.25], [52.03068, 1209936.75], [53.0022, 5175694.0], [53.03851, 79612144.0], [53.99742, 991058.875], [54.0338, 4633613.5], [54.04648, 408818.03125], [55.01786, 4340397.5], [56.04947, 883337.9375], [62.015, 3776118.25], [63.02278, 20169024.0], [64.01817, 1836384.625], [64.03074, 4616431.5], [65.00219, 5237098.0], [65.02611, 1927054.25], [65.0385, 15207527.0], [66.03381, 3992670.75], [66.04616, 14177255.0], [67.0417, 16769235.0], [75.0229, 1385301.25], [77.03834, 204859152.0], [78.03383, 12052346.0], [78.04625, 7861870.0], [79.05419, 422342688.0], [80.04935, 18779444.0], [81.03348, 7227929.5], [89.03833, 8132264.5], [90.03395, 1207538.375], [91.0417, 9138863.0], [92.03713, 438879.0], [94.04137, 3319695.75], [95.0491, 256538800.0], [96.04437, 14574545.0], [104.04929, 5948255.0], [105.04486, 130753864.0], [106.04176, 884373.6875], [106.06513, 137884272.0], [119.04772, 1149378.875], [133.06353, 521884.96875], [134.07119, 1774385920.0]], 'SourceFile': '/Users/simon/Dropbox/TP pairs/QExPlus_Xmas2014_pH_tx.csv'}\n",
      "{'InstrumentType': 'LC-ESI-QFT', 'MSType': 'MS2', 'IonMode': 'POSITIVE', 'IonizationType': 'ESI', 'RT': '6.1', 'Name': '1H-Benzotriazole, 4(or 5)-methyl-', 'Formula': 'C7H7N3', 'CAS': '29878-31-7', 'InChIKey': 'CMGDVUCDZOBDNL-UHFFFAOYSA-N', 'FragmentationMode': 'HCD', 'CollisionEnergy': [15, 30, 45, 60, 75, 90], 'Resolution': '35000', 'PrecursorType': '[M+H]+', 'PrecursorMZ': '134.0713', 'peaks': [[50.01515, 5522379.60811757], [51.02289, 3074371.43615017], [53.0386, 8685543.92082579], [54.03398, 326708.20671145], [63.02297, 1965120.36359409], [65.00229, 418460.646057734], [65.03838, 7746906.01979081], [66.03387, 2647503.88121052], [66.04623, 13488634.596868], [67.0418, 9632000.07137239], [77.03842, 157022930.721651], [78.03391, 13206969.7560699], [78.04615, 5316003.46513199], [79.05426, 357910529.698924], [80.04962, 18270256.411434], [81.03375, 7423479.68666793], [89.03857, 7775753.35872249], [90.03379, 450234.604747454], [91.04158, 6789551.5045418], [95.0492, 213866444.355487], [96.04439, 13583771.7133631], [104.04965, 4231233.40143817], [105.04474, 147255208.672546], [106.06519, 138854137.315131], [119.04774, 1433199.72690871], [133.06359, 615273.076691858], [134.07142, 1655486170.87731]], 'SourceFile': '/Users/simon/Dropbox/TP pairs/20140108_QEx2_pH_tx.csv'}\n"
     ]
    }
   ],
   "source": [
    "# example of something in >1 file = 2791\n",
    "print(id_to_file[2791])\n",
    "for filename in id_to_file[2791]:\n",
    "    print(spec_dict[filename][2791])\n"
   ]
  },
  {
   "cell_type": "markdown",
   "metadata": {},
   "source": [
    "# Look at the structure of the network\n",
    "\n",
    "**Note**\n",
    "\n",
    "- There will be missing edges in the network as not all TP pairs are given (I think)"
   ]
  },
  {
   "cell_type": "code",
   "execution_count": 211,
   "metadata": {},
   "outputs": [],
   "source": [
    "import networkx as nx\n",
    "G = nx.Graph() # normal graph for finding conn. components\n",
    "dG = nx.DiGraph() # digraph for finding cycles\n",
    "reaction_map = {}\n",
    "for i,p in enumerate(df['par_ID']):\n",
    "    t = df['TP_ID'][i]\n",
    "    G.add_edge(p,t)\n",
    "    dG.add_edge(p,t)\n",
    "    reaction_map[(p,t)] = df['Transformation'][i] # useful later for labeling edges"
   ]
  },
  {
   "cell_type": "code",
   "execution_count": 212,
   "metadata": {},
   "outputs": [],
   "source": [
    "import pylab as plt\n",
    "%matplotlib inline"
   ]
  },
  {
   "cell_type": "code",
   "execution_count": 213,
   "metadata": {},
   "outputs": [
    {
     "data": {
      "image/png": "[encoded data removed]",
      "text/plain": [
       "<Figure size 432x288 with 1 Axes>"
      ]
     },
     "metadata": {},
     "output_type": "display_data"
    }
   ],
   "source": [
    "nx.draw(dG)"
   ]
  },
  {
   "cell_type": "markdown",
   "metadata": {},
   "source": [
    "## Find and print cycles"
   ]
  },
  {
   "cell_type": "code",
   "execution_count": 215,
   "metadata": {},
   "outputs": [],
   "source": [
    "cycles = list(nx.simple_cycles(dG))"
   ]
  },
  {
   "cell_type": "code",
   "execution_count": 216,
   "metadata": {
    "scrolled": true
   },
   "outputs": [
    {
     "name": "stdout",
     "output_type": "stream",
     "text": [
      "[3561, 2861]\n",
      "nitro reduction -- n-oxidation\n",
      "[2852, 3399]\n",
      "n-oxidation -- nitro reduction\n",
      "[3310, 2567]\n",
      "nitro reduction -- n-oxidation\n",
      "[2572, 3279]\n",
      "n-oxidation -- nitro reduction\n",
      "[3274, 3278]\n",
      "n-oxidation -- nitro reduction\n",
      "[3004, 3271]\n",
      "n-oxidation -- nitro reduction\n",
      "[3396, 645]\n",
      "nitro reduction -- n-oxidation\n",
      "[298, 299]\n",
      "acetylation -- amide hydrolysis\n",
      "[3005, 3254]\n",
      "n-oxidation -- nitro reduction\n",
      "[3242, 3244]\n",
      "acetylation -- ester cleavage\n",
      "[2666, 2668]\n",
      "sulfur reduction -- sulphoxidation\n",
      "[248, 179]\n",
      "amide hydrolysis -- acetylation\n",
      "[181, 247]\n",
      "acetylation -- amide hydrolysis\n",
      "[185, 249]\n",
      "acetylation -- amide hydrolysis\n"
     ]
    }
   ],
   "source": [
    "for cycle in cycles:\n",
    "    print(cycle)\n",
    "    for i in range(len(cycle)-1):\n",
    "        tup = (cycle[i],cycle[i+1])\n",
    "        tup_back = (cycle[i+1],cycle[i])\n",
    "        print(reaction_map[tup],\"--\",reaction_map[tup_back])"
   ]
  },
  {
   "cell_type": "markdown",
   "metadata": {},
   "source": [
    "## Find connected components with >= 4 nodes"
   ]
  },
  {
   "cell_type": "code",
   "execution_count": 220,
   "metadata": {},
   "outputs": [
    {
     "name": "stdout",
     "output_type": "stream",
     "text": [
      "1 {236, 845, 1038, 2708, 702} 5\n",
      "6 {265, 67, 268, 502} 4\n",
      "7 {288, 668, 132, 133, 262, 142, 277, 309, 2741, 3034, 667, 279, 157, 670, 287} 15\n",
      "8 {672, 302, 283, 306, 346, 347, 284, 671} 8\n",
      "9 {304, 52, 285, 286} 4\n",
      "13 {2666, 2667, 2668, 2669} 4\n",
      "14 {169, 697, 172, 2670} 4\n",
      "15 {128, 124, 125, 126} 4\n",
      "39 {992, 194, 916, 2701} 4\n",
      "40 {2657, 2658, 3396, 645, 1034, 1053} 6\n",
      "44 {2794, 2795, 2804, 2774, 2583} 5\n",
      "45 {166, 2791, 2798, 3184, 2899, 2900} 6\n",
      "50 {3281, 3275, 3461, 2822} 4\n",
      "51 {3310, 3565, 3398, 2567} 4\n",
      "58 {3121, 3106, 2845, 2862} 4\n",
      "60 {3084, 2772, 3381, 3380, 3383, 3476} 6\n",
      "76 {3066, 2739, 3604, 2934} 4\n"
     ]
    }
   ],
   "source": [
    "components = list(nx.connected_components(G))\n",
    "for i,c in enumerate(components):\n",
    "    if len(c) >= 4:\n",
    "        print(i,c,len(c))"
   ]
  },
  {
   "cell_type": "markdown",
   "metadata": {},
   "source": [
    "Plot the connected network"
   ]
  },
  {
   "cell_type": "code",
   "execution_count": 230,
   "metadata": {},
   "outputs": [
    {
     "data": {
      "text/plain": [
       "{(128, 126): Text(0.553326,-0.184925,'urea derivative'),\n",
       " (124, 125): Text(-0.553326,0.184925,'multiple'),\n",
       " (128, 125): Text(-0.346065,-0.0167226,'multiple')}"
      ]
     },
     "execution_count": 230,
     "metadata": {},
     "output_type": "execute_result"
    },
    {
     "data": {
      "image/png": "[encoded data removed]",
      "text/plain": [
       "<Figure size 1440x720 with 1 Axes>"
      ]
     },
     "metadata": {
      "needs_background": "light"
     },
     "output_type": "display_data"
    }
   ],
   "source": [
    "c_id = 15\n",
    "sub = dG.subgraph(components[c_id])\n",
    "pos = nx.spring_layout(sub)\n",
    "plt.figure(figsize=(20,10))\n",
    "ax = plt.gca()\n",
    "pp = nx.draw_networkx(sub,pos = pos,ax = ax)\n",
    "sub_reaction_map = {}\n",
    "for (n1,n2),label in reaction_map.items():\n",
    "    if n1 in components[c_id] and n2 in components[c_id]:\n",
    "        sub_reaction_map[(n1,n2)] = label\n",
    "nx.draw_networkx_edge_labels(sub,pos = pos,edge_labels = sub_reaction_map,font_size=10)"
   ]
  },
  {
   "cell_type": "code",
   "execution_count": null,
   "metadata": {},
   "outputs": [],
   "source": []
  }
 ],
 "metadata": {
  "kernelspec": {
   "display_name": "Python 3",
   "language": "python",
   "name": "python3"
  },
  "language_info": {
   "codemirror_mode": {
    "name": "ipython",
    "version": 3
   },
   "file_extension": ".py",
   "mimetype": "text/x-python",
   "name": "python",
   "nbconvert_exporter": "python",
   "pygments_lexer": "ipython3",
   "version": "3.6.8"
  }
 },
 "nbformat": 4,
 "nbformat_minor": 2
}
